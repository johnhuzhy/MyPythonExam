{
 "metadata": {
  "language_info": {
   "codemirror_mode": {
    "name": "ipython",
    "version": 3
   },
   "file_extension": ".py",
   "mimetype": "text/x-python",
   "name": "python",
   "nbconvert_exporter": "python",
   "pygments_lexer": "ipython3",
   "version": "3.8.3-final"
  },
  "orig_nbformat": 2,
  "kernelspec": {
   "name": "python_defaultSpec_1600237604217",
   "display_name": "Python 3.8.3 64-bit"
  }
 },
 "nbformat": 4,
 "nbformat_minor": 2,
 "cells": [
  {
   "cell_type": "code",
   "execution_count": 1,
   "metadata": {},
   "outputs": [
    {
     "output_type": "execute_result",
     "data": {
      "text/plain": "DatetimeIndex(['2017-09-01', '2017-09-02', '2017-09-03', '2017-09-04',\n               '2017-09-05', '2017-09-06', '2017-09-07', '2017-09-08',\n               '2017-09-09', '2017-09-10', '2017-09-11', '2017-09-12',\n               '2017-09-13', '2017-09-14', '2017-09-15', '2017-09-16',\n               '2017-09-17', '2017-09-18', '2017-09-19', '2017-09-20',\n               '2017-09-21', '2017-09-22', '2017-09-23', '2017-09-24',\n               '2017-09-25', '2017-09-26', '2017-09-27', '2017-09-28',\n               '2017-09-29', '2017-09-30'],\n              dtype='datetime64[ns]', freq='D')"
     },
     "metadata": {},
     "execution_count": 1
    }
   ],
   "source": [
    "import pandas as pd\n",
    "import numpy as np\n",
    "\n",
    "dates = pd.date_range(start=\"2017-09-01\", end=\"2017-09-30\")\n",
    "dates"
   ]
  },
  {
   "cell_type": "code",
   "execution_count": 2,
   "metadata": {},
   "outputs": [
    {
     "output_type": "execute_result",
     "data": {
      "text/plain": "            乱数\n2017-09-01  13\n2017-09-02  13\n2017-09-03  14\n2017-09-04   4\n2017-09-05  20\n2017-09-06  15\n2017-09-07  23\n2017-09-08  15\n2017-09-09  29\n2017-09-10  20\n2017-09-11  30\n2017-09-12   8\n2017-09-13  24\n2017-09-14  29\n2017-09-15  23\n2017-09-16  27\n2017-09-17  21\n2017-09-18  13\n2017-09-19  21\n2017-09-20  10\n2017-09-21  24\n2017-09-22  14\n2017-09-23  29\n2017-09-24   6\n2017-09-25   6\n2017-09-26   9\n2017-09-27   9\n2017-09-28   8\n2017-09-29  27\n2017-09-30  20",
      "text/html": "<div>\n<style scoped>\n    .dataframe tbody tr th:only-of-type {\n        vertical-align: middle;\n    }\n\n    .dataframe tbody tr th {\n        vertical-align: top;\n    }\n\n    .dataframe thead th {\n        text-align: right;\n    }\n</style>\n<table border=\"1\" class=\"dataframe\">\n  <thead>\n    <tr style=\"text-align: right;\">\n      <th></th>\n      <th>乱数</th>\n    </tr>\n  </thead>\n  <tbody>\n    <tr>\n      <th>2017-09-01</th>\n      <td>13</td>\n    </tr>\n    <tr>\n      <th>2017-09-02</th>\n      <td>13</td>\n    </tr>\n    <tr>\n      <th>2017-09-03</th>\n      <td>14</td>\n    </tr>\n    <tr>\n      <th>2017-09-04</th>\n      <td>4</td>\n    </tr>\n    <tr>\n      <th>2017-09-05</th>\n      <td>20</td>\n    </tr>\n    <tr>\n      <th>2017-09-06</th>\n      <td>15</td>\n    </tr>\n    <tr>\n      <th>2017-09-07</th>\n      <td>23</td>\n    </tr>\n    <tr>\n      <th>2017-09-08</th>\n      <td>15</td>\n    </tr>\n    <tr>\n      <th>2017-09-09</th>\n      <td>29</td>\n    </tr>\n    <tr>\n      <th>2017-09-10</th>\n      <td>20</td>\n    </tr>\n    <tr>\n      <th>2017-09-11</th>\n      <td>30</td>\n    </tr>\n    <tr>\n      <th>2017-09-12</th>\n      <td>8</td>\n    </tr>\n    <tr>\n      <th>2017-09-13</th>\n      <td>24</td>\n    </tr>\n    <tr>\n      <th>2017-09-14</th>\n      <td>29</td>\n    </tr>\n    <tr>\n      <th>2017-09-15</th>\n      <td>23</td>\n    </tr>\n    <tr>\n      <th>2017-09-16</th>\n      <td>27</td>\n    </tr>\n    <tr>\n      <th>2017-09-17</th>\n      <td>21</td>\n    </tr>\n    <tr>\n      <th>2017-09-18</th>\n      <td>13</td>\n    </tr>\n    <tr>\n      <th>2017-09-19</th>\n      <td>21</td>\n    </tr>\n    <tr>\n      <th>2017-09-20</th>\n      <td>10</td>\n    </tr>\n    <tr>\n      <th>2017-09-21</th>\n      <td>24</td>\n    </tr>\n    <tr>\n      <th>2017-09-22</th>\n      <td>14</td>\n    </tr>\n    <tr>\n      <th>2017-09-23</th>\n      <td>29</td>\n    </tr>\n    <tr>\n      <th>2017-09-24</th>\n      <td>6</td>\n    </tr>\n    <tr>\n      <th>2017-09-25</th>\n      <td>6</td>\n    </tr>\n    <tr>\n      <th>2017-09-26</th>\n      <td>9</td>\n    </tr>\n    <tr>\n      <th>2017-09-27</th>\n      <td>9</td>\n    </tr>\n    <tr>\n      <th>2017-09-28</th>\n      <td>8</td>\n    </tr>\n    <tr>\n      <th>2017-09-29</th>\n      <td>27</td>\n    </tr>\n    <tr>\n      <th>2017-09-30</th>\n      <td>20</td>\n    </tr>\n  </tbody>\n</table>\n</div>"
     },
     "metadata": {},
     "execution_count": 2
    }
   ],
   "source": [
    "np.random.seed(333)\n",
    "df = pd.DataFrame(np.random.randint(1,31,30), index=dates, columns=['乱数'])\n",
    "df"
   ]
  },
  {
   "cell_type": "code",
   "execution_count": 3,
   "metadata": {},
   "outputs": [
    {
     "output_type": "execute_result",
     "data": {
      "text/plain": "DatetimeIndex(['2020-01-01', '2020-01-02', '2020-01-03', '2020-01-04',\n               '2020-01-05', '2020-01-06', '2020-01-07', '2020-01-08',\n               '2020-01-09', '2020-01-10',\n               ...\n               '2020-12-22', '2020-12-23', '2020-12-24', '2020-12-25',\n               '2020-12-26', '2020-12-27', '2020-12-28', '2020-12-29',\n               '2020-12-30', '2020-12-31'],\n              dtype='datetime64[ns]', length=366, freq='D')"
     },
     "metadata": {},
     "execution_count": 3
    }
   ],
   "source": [
    "dates = pd.date_range(start=\"2020-01-01\", periods=366)\n",
    "dates"
   ]
  },
  {
   "cell_type": "code",
   "execution_count": 4,
   "metadata": {},
   "outputs": [
    {
     "output_type": "execute_result",
     "data": {
      "text/plain": "            乱数\n2020-01-01  13\n2020-01-02  13\n2020-01-03  14\n2020-01-04   4\n2020-01-05  20\n...         ..\n2020-12-27   3\n2020-12-28  27\n2020-12-29  11\n2020-12-30  22\n2020-12-31  10\n\n[366 rows x 1 columns]",
      "text/html": "<div>\n<style scoped>\n    .dataframe tbody tr th:only-of-type {\n        vertical-align: middle;\n    }\n\n    .dataframe tbody tr th {\n        vertical-align: top;\n    }\n\n    .dataframe thead th {\n        text-align: right;\n    }\n</style>\n<table border=\"1\" class=\"dataframe\">\n  <thead>\n    <tr style=\"text-align: right;\">\n      <th></th>\n      <th>乱数</th>\n    </tr>\n  </thead>\n  <tbody>\n    <tr>\n      <th>2020-01-01</th>\n      <td>13</td>\n    </tr>\n    <tr>\n      <th>2020-01-02</th>\n      <td>13</td>\n    </tr>\n    <tr>\n      <th>2020-01-03</th>\n      <td>14</td>\n    </tr>\n    <tr>\n      <th>2020-01-04</th>\n      <td>4</td>\n    </tr>\n    <tr>\n      <th>2020-01-05</th>\n      <td>20</td>\n    </tr>\n    <tr>\n      <th>...</th>\n      <td>...</td>\n    </tr>\n    <tr>\n      <th>2020-12-27</th>\n      <td>3</td>\n    </tr>\n    <tr>\n      <th>2020-12-28</th>\n      <td>27</td>\n    </tr>\n    <tr>\n      <th>2020-12-29</th>\n      <td>11</td>\n    </tr>\n    <tr>\n      <th>2020-12-30</th>\n      <td>22</td>\n    </tr>\n    <tr>\n      <th>2020-12-31</th>\n      <td>10</td>\n    </tr>\n  </tbody>\n</table>\n<p>366 rows × 1 columns</p>\n</div>"
     },
     "metadata": {},
     "execution_count": 4
    }
   ],
   "source": [
    "np.random.seed(333)\n",
    "df = pd.DataFrame(np.random.randint(1,31,366), index=dates, columns=['乱数'])\n",
    "df"
   ]
  },
  {
   "cell_type": "code",
   "execution_count": 5,
   "metadata": {},
   "outputs": [
    {
     "output_type": "execute_result",
     "data": {
      "text/plain": "                   乱数\n2020-01-31  17.032258\n2020-02-29  16.413793\n2020-03-31  17.967742\n2020-04-30  12.466667\n2020-05-31  15.032258\n2020-06-30  16.800000\n2020-07-31  14.322581\n2020-08-31  16.387097\n2020-09-30  16.700000\n2020-10-31  15.806452\n2020-11-30  13.133333\n2020-12-31  15.161290",
      "text/html": "<div>\n<style scoped>\n    .dataframe tbody tr th:only-of-type {\n        vertical-align: middle;\n    }\n\n    .dataframe tbody tr th {\n        vertical-align: top;\n    }\n\n    .dataframe thead th {\n        text-align: right;\n    }\n</style>\n<table border=\"1\" class=\"dataframe\">\n  <thead>\n    <tr style=\"text-align: right;\">\n      <th></th>\n      <th>乱数</th>\n    </tr>\n  </thead>\n  <tbody>\n    <tr>\n      <th>2020-01-31</th>\n      <td>17.032258</td>\n    </tr>\n    <tr>\n      <th>2020-02-29</th>\n      <td>16.413793</td>\n    </tr>\n    <tr>\n      <th>2020-03-31</th>\n      <td>17.967742</td>\n    </tr>\n    <tr>\n      <th>2020-04-30</th>\n      <td>12.466667</td>\n    </tr>\n    <tr>\n      <th>2020-05-31</th>\n      <td>15.032258</td>\n    </tr>\n    <tr>\n      <th>2020-06-30</th>\n      <td>16.800000</td>\n    </tr>\n    <tr>\n      <th>2020-07-31</th>\n      <td>14.322581</td>\n    </tr>\n    <tr>\n      <th>2020-08-31</th>\n      <td>16.387097</td>\n    </tr>\n    <tr>\n      <th>2020-09-30</th>\n      <td>16.700000</td>\n    </tr>\n    <tr>\n      <th>2020-10-31</th>\n      <td>15.806452</td>\n    </tr>\n    <tr>\n      <th>2020-11-30</th>\n      <td>13.133333</td>\n    </tr>\n    <tr>\n      <th>2020-12-31</th>\n      <td>15.161290</td>\n    </tr>\n  </tbody>\n</table>\n</div>"
     },
     "metadata": {},
     "execution_count": 5
    }
   ],
   "source": [
    "df.groupby(pd.Grouper(freq='M')).mean()"
   ]
  },
  {
   "cell_type": "code",
   "execution_count": 6,
   "metadata": {},
   "outputs": [
    {
     "output_type": "execute_result",
     "data": {
      "text/plain": "2020-01-31    17.032258\n2020-02-29    16.413793\n2020-03-31    17.967742\n2020-04-30    12.466667\n2020-05-31    15.032258\n2020-06-30    16.800000\n2020-07-31    14.322581\n2020-08-31    16.387097\n2020-09-30    16.700000\n2020-10-31    15.806452\n2020-11-30    13.133333\n2020-12-31    15.161290\nFreq: M, Name: 乱数, dtype: float64"
     },
     "metadata": {},
     "execution_count": 6
    }
   ],
   "source": [
    "df.loc[:, '乱数'].resample('M').mean()"
   ]
  },
  {
   "cell_type": "code",
   "execution_count": 7,
   "metadata": {},
   "outputs": [
    {
     "output_type": "execute_result",
     "data": {
      "text/plain": "DatetimeIndex(['2020-01-04', '2020-01-11', '2020-01-18', '2020-01-25',\n               '2020-02-01', '2020-02-08', '2020-02-15', '2020-02-22',\n               '2020-02-29', '2020-03-07', '2020-03-14', '2020-03-21',\n               '2020-03-28', '2020-04-04', '2020-04-11', '2020-04-18',\n               '2020-04-25', '2020-05-02', '2020-05-09', '2020-05-16',\n               '2020-05-23', '2020-05-30', '2020-06-06', '2020-06-13',\n               '2020-06-20', '2020-06-27', '2020-07-04', '2020-07-11',\n               '2020-07-18', '2020-07-25', '2020-08-01', '2020-08-08',\n               '2020-08-15', '2020-08-22', '2020-08-29', '2020-09-05',\n               '2020-09-12', '2020-09-19', '2020-09-26', '2020-10-03',\n               '2020-10-10', '2020-10-17', '2020-10-24', '2020-10-31',\n               '2020-11-07', '2020-11-14', '2020-11-21', '2020-11-28',\n               '2020-12-05', '2020-12-12', '2020-12-19', '2020-12-26'],\n              dtype='datetime64[ns]', freq='W-SAT')"
     },
     "metadata": {},
     "execution_count": 7
    }
   ],
   "source": [
    "pd.date_range(start='2020-01-01', end='2020-12-31', freq=\"W-SAT\")"
   ]
  },
  {
   "cell_type": "code",
   "execution_count": 8,
   "metadata": {},
   "outputs": [
    {
     "output_type": "execute_result",
     "data": {
      "text/plain": "             乱数\n2020-01-05   64\n2020-01-12  140\n2020-01-19  158\n2020-01-26   98\n2020-02-02  118\n2020-02-09  142\n2020-02-16   95\n2020-02-23   76\n2020-03-01  141\n2020-03-08   96\n2020-03-15  179\n2020-03-22  100\n2020-03-29  105\n2020-04-05   90\n2020-04-12  107\n2020-04-19   96\n2020-04-26  102\n2020-05-03   67\n2020-05-10  130\n2020-05-17   98\n2020-05-24   65\n2020-05-31  134\n2020-06-07   92\n2020-06-14  112\n2020-06-21  129\n2020-06-28  144\n2020-07-05   93\n2020-07-12  155\n2020-07-19   91\n2020-07-26   72\n2020-08-02   90\n2020-08-09  139\n2020-08-16  146\n2020-08-23  101\n2020-08-30   87\n2020-09-06   89\n2020-09-13  113\n2020-09-20  140\n2020-09-27  127\n2020-10-04   81\n2020-10-11  103\n2020-10-18   99\n2020-10-25  130\n2020-11-01  124\n2020-11-08   61\n2020-11-15  137\n2020-11-22  133\n2020-11-29   43\n2020-12-06   63\n2020-12-13  115\n2020-12-20  109\n2020-12-27  123\n2021-01-03   70",
      "text/html": "<div>\n<style scoped>\n    .dataframe tbody tr th:only-of-type {\n        vertical-align: middle;\n    }\n\n    .dataframe tbody tr th {\n        vertical-align: top;\n    }\n\n    .dataframe thead th {\n        text-align: right;\n    }\n</style>\n<table border=\"1\" class=\"dataframe\">\n  <thead>\n    <tr style=\"text-align: right;\">\n      <th></th>\n      <th>乱数</th>\n    </tr>\n  </thead>\n  <tbody>\n    <tr>\n      <th>2020-01-05</th>\n      <td>64</td>\n    </tr>\n    <tr>\n      <th>2020-01-12</th>\n      <td>140</td>\n    </tr>\n    <tr>\n      <th>2020-01-19</th>\n      <td>158</td>\n    </tr>\n    <tr>\n      <th>2020-01-26</th>\n      <td>98</td>\n    </tr>\n    <tr>\n      <th>2020-02-02</th>\n      <td>118</td>\n    </tr>\n    <tr>\n      <th>2020-02-09</th>\n      <td>142</td>\n    </tr>\n    <tr>\n      <th>2020-02-16</th>\n      <td>95</td>\n    </tr>\n    <tr>\n      <th>2020-02-23</th>\n      <td>76</td>\n    </tr>\n    <tr>\n      <th>2020-03-01</th>\n      <td>141</td>\n    </tr>\n    <tr>\n      <th>2020-03-08</th>\n      <td>96</td>\n    </tr>\n    <tr>\n      <th>2020-03-15</th>\n      <td>179</td>\n    </tr>\n    <tr>\n      <th>2020-03-22</th>\n      <td>100</td>\n    </tr>\n    <tr>\n      <th>2020-03-29</th>\n      <td>105</td>\n    </tr>\n    <tr>\n      <th>2020-04-05</th>\n      <td>90</td>\n    </tr>\n    <tr>\n      <th>2020-04-12</th>\n      <td>107</td>\n    </tr>\n    <tr>\n      <th>2020-04-19</th>\n      <td>96</td>\n    </tr>\n    <tr>\n      <th>2020-04-26</th>\n      <td>102</td>\n    </tr>\n    <tr>\n      <th>2020-05-03</th>\n      <td>67</td>\n    </tr>\n    <tr>\n      <th>2020-05-10</th>\n      <td>130</td>\n    </tr>\n    <tr>\n      <th>2020-05-17</th>\n      <td>98</td>\n    </tr>\n    <tr>\n      <th>2020-05-24</th>\n      <td>65</td>\n    </tr>\n    <tr>\n      <th>2020-05-31</th>\n      <td>134</td>\n    </tr>\n    <tr>\n      <th>2020-06-07</th>\n      <td>92</td>\n    </tr>\n    <tr>\n      <th>2020-06-14</th>\n      <td>112</td>\n    </tr>\n    <tr>\n      <th>2020-06-21</th>\n      <td>129</td>\n    </tr>\n    <tr>\n      <th>2020-06-28</th>\n      <td>144</td>\n    </tr>\n    <tr>\n      <th>2020-07-05</th>\n      <td>93</td>\n    </tr>\n    <tr>\n      <th>2020-07-12</th>\n      <td>155</td>\n    </tr>\n    <tr>\n      <th>2020-07-19</th>\n      <td>91</td>\n    </tr>\n    <tr>\n      <th>2020-07-26</th>\n      <td>72</td>\n    </tr>\n    <tr>\n      <th>2020-08-02</th>\n      <td>90</td>\n    </tr>\n    <tr>\n      <th>2020-08-09</th>\n      <td>139</td>\n    </tr>\n    <tr>\n      <th>2020-08-16</th>\n      <td>146</td>\n    </tr>\n    <tr>\n      <th>2020-08-23</th>\n      <td>101</td>\n    </tr>\n    <tr>\n      <th>2020-08-30</th>\n      <td>87</td>\n    </tr>\n    <tr>\n      <th>2020-09-06</th>\n      <td>89</td>\n    </tr>\n    <tr>\n      <th>2020-09-13</th>\n      <td>113</td>\n    </tr>\n    <tr>\n      <th>2020-09-20</th>\n      <td>140</td>\n    </tr>\n    <tr>\n      <th>2020-09-27</th>\n      <td>127</td>\n    </tr>\n    <tr>\n      <th>2020-10-04</th>\n      <td>81</td>\n    </tr>\n    <tr>\n      <th>2020-10-11</th>\n      <td>103</td>\n    </tr>\n    <tr>\n      <th>2020-10-18</th>\n      <td>99</td>\n    </tr>\n    <tr>\n      <th>2020-10-25</th>\n      <td>130</td>\n    </tr>\n    <tr>\n      <th>2020-11-01</th>\n      <td>124</td>\n    </tr>\n    <tr>\n      <th>2020-11-08</th>\n      <td>61</td>\n    </tr>\n    <tr>\n      <th>2020-11-15</th>\n      <td>137</td>\n    </tr>\n    <tr>\n      <th>2020-11-22</th>\n      <td>133</td>\n    </tr>\n    <tr>\n      <th>2020-11-29</th>\n      <td>43</td>\n    </tr>\n    <tr>\n      <th>2020-12-06</th>\n      <td>63</td>\n    </tr>\n    <tr>\n      <th>2020-12-13</th>\n      <td>115</td>\n    </tr>\n    <tr>\n      <th>2020-12-20</th>\n      <td>109</td>\n    </tr>\n    <tr>\n      <th>2020-12-27</th>\n      <td>123</td>\n    </tr>\n    <tr>\n      <th>2021-01-03</th>\n      <td>70</td>\n    </tr>\n  </tbody>\n</table>\n</div>"
     },
     "metadata": {},
     "execution_count": 8
    }
   ],
   "source": [
    "df_year = pd.DataFrame(df.groupby(pd.Grouper(freq='W-SUN')).sum(), columns=['乱数'])\n",
    "df_year"
   ]
  },
  {
   "cell_type": "code",
   "execution_count": 9,
   "metadata": {},
   "outputs": [
    {
     "output_type": "execute_result",
     "data": {
      "text/plain": "             steps    cols\ndates                     \n2020-08-01  1432.0  4300.0\n2020-08-02  2331.0  2100.0\n2020-08-03     NaN     NaN\n2020-08-04  8283.0  3433.0\n2020-08-05     NaN     NaN\n2020-08-06  4332.0  4577.0\n2020-08-07  3212.0  2365.0\n2020-08-08  6543.0  6434.0\n2020-08-09  2345.0  2653.0\n2020-08-10  5433.0  5212.0\n2020-08-11  2674.0  2643.0\n2020-08-12  3765.0  2854.0\n2020-08-13  4924.0  2754.0",
      "text/html": "<div>\n<style scoped>\n    .dataframe tbody tr th:only-of-type {\n        vertical-align: middle;\n    }\n\n    .dataframe tbody tr th {\n        vertical-align: top;\n    }\n\n    .dataframe thead th {\n        text-align: right;\n    }\n</style>\n<table border=\"1\" class=\"dataframe\">\n  <thead>\n    <tr style=\"text-align: right;\">\n      <th></th>\n      <th>steps</th>\n      <th>cols</th>\n    </tr>\n    <tr>\n      <th>dates</th>\n      <th></th>\n      <th></th>\n    </tr>\n  </thead>\n  <tbody>\n    <tr>\n      <th>2020-08-01</th>\n      <td>1432.0</td>\n      <td>4300.0</td>\n    </tr>\n    <tr>\n      <th>2020-08-02</th>\n      <td>2331.0</td>\n      <td>2100.0</td>\n    </tr>\n    <tr>\n      <th>2020-08-03</th>\n      <td>NaN</td>\n      <td>NaN</td>\n    </tr>\n    <tr>\n      <th>2020-08-04</th>\n      <td>8283.0</td>\n      <td>3433.0</td>\n    </tr>\n    <tr>\n      <th>2020-08-05</th>\n      <td>NaN</td>\n      <td>NaN</td>\n    </tr>\n    <tr>\n      <th>2020-08-06</th>\n      <td>4332.0</td>\n      <td>4577.0</td>\n    </tr>\n    <tr>\n      <th>2020-08-07</th>\n      <td>3212.0</td>\n      <td>2365.0</td>\n    </tr>\n    <tr>\n      <th>2020-08-08</th>\n      <td>6543.0</td>\n      <td>6434.0</td>\n    </tr>\n    <tr>\n      <th>2020-08-09</th>\n      <td>2345.0</td>\n      <td>2653.0</td>\n    </tr>\n    <tr>\n      <th>2020-08-10</th>\n      <td>5433.0</td>\n      <td>5212.0</td>\n    </tr>\n    <tr>\n      <th>2020-08-11</th>\n      <td>2674.0</td>\n      <td>2643.0</td>\n    </tr>\n    <tr>\n      <th>2020-08-12</th>\n      <td>3765.0</td>\n      <td>2854.0</td>\n    </tr>\n    <tr>\n      <th>2020-08-13</th>\n      <td>4924.0</td>\n      <td>2754.0</td>\n    </tr>\n  </tbody>\n</table>\n</div>"
     },
     "metadata": {},
     "execution_count": 9
    }
   ],
   "source": [
    "df_202008 = pd.read_csv('../prop/202008health.csv', encoding='utf-8', index_col='dates', parse_dates=True)\n",
    "df_202008"
   ]
  },
  {
   "cell_type": "code",
   "execution_count": 10,
   "metadata": {},
   "outputs": [
    {
     "output_type": "execute_result",
     "data": {
      "text/plain": "             steps    cols\ndates                     \n2020-08-01  1432.0  4300.0\n2020-08-02  2331.0  2100.0\n2020-08-04  8283.0  3433.0\n2020-08-06  4332.0  4577.0\n2020-08-07  3212.0  2365.0\n2020-08-08  6543.0  6434.0\n2020-08-09  2345.0  2653.0\n2020-08-10  5433.0  5212.0\n2020-08-11  2674.0  2643.0\n2020-08-12  3765.0  2854.0\n2020-08-13  4924.0  2754.0",
      "text/html": "<div>\n<style scoped>\n    .dataframe tbody tr th:only-of-type {\n        vertical-align: middle;\n    }\n\n    .dataframe tbody tr th {\n        vertical-align: top;\n    }\n\n    .dataframe thead th {\n        text-align: right;\n    }\n</style>\n<table border=\"1\" class=\"dataframe\">\n  <thead>\n    <tr style=\"text-align: right;\">\n      <th></th>\n      <th>steps</th>\n      <th>cols</th>\n    </tr>\n    <tr>\n      <th>dates</th>\n      <th></th>\n      <th></th>\n    </tr>\n  </thead>\n  <tbody>\n    <tr>\n      <th>2020-08-01</th>\n      <td>1432.0</td>\n      <td>4300.0</td>\n    </tr>\n    <tr>\n      <th>2020-08-02</th>\n      <td>2331.0</td>\n      <td>2100.0</td>\n    </tr>\n    <tr>\n      <th>2020-08-04</th>\n      <td>8283.0</td>\n      <td>3433.0</td>\n    </tr>\n    <tr>\n      <th>2020-08-06</th>\n      <td>4332.0</td>\n      <td>4577.0</td>\n    </tr>\n    <tr>\n      <th>2020-08-07</th>\n      <td>3212.0</td>\n      <td>2365.0</td>\n    </tr>\n    <tr>\n      <th>2020-08-08</th>\n      <td>6543.0</td>\n      <td>6434.0</td>\n    </tr>\n    <tr>\n      <th>2020-08-09</th>\n      <td>2345.0</td>\n      <td>2653.0</td>\n    </tr>\n    <tr>\n      <th>2020-08-10</th>\n      <td>5433.0</td>\n      <td>5212.0</td>\n    </tr>\n    <tr>\n      <th>2020-08-11</th>\n      <td>2674.0</td>\n      <td>2643.0</td>\n    </tr>\n    <tr>\n      <th>2020-08-12</th>\n      <td>3765.0</td>\n      <td>2854.0</td>\n    </tr>\n    <tr>\n      <th>2020-08-13</th>\n      <td>4924.0</td>\n      <td>2754.0</td>\n    </tr>\n  </tbody>\n</table>\n</div>"
     },
     "metadata": {},
     "execution_count": 10
    }
   ],
   "source": [
    "df_202008_drop = df_202008.dropna()\n",
    "df_202008_drop"
   ]
  },
  {
   "cell_type": "code",
   "execution_count": 11,
   "metadata": {},
   "outputs": [
    {
     "output_type": "execute_result",
     "data": {
      "text/plain": "             steps    cols\ndates                     \n2020-08-01  1432.0  4300.0\n2020-08-02  2331.0  2100.0\n2020-08-03     0.0     0.0\n2020-08-04  8283.0  3433.0\n2020-08-05     0.0     0.0\n2020-08-06  4332.0  4577.0\n2020-08-07  3212.0  2365.0\n2020-08-08  6543.0  6434.0\n2020-08-09  2345.0  2653.0\n2020-08-10  5433.0  5212.0\n2020-08-11  2674.0  2643.0\n2020-08-12  3765.0  2854.0\n2020-08-13  4924.0  2754.0",
      "text/html": "<div>\n<style scoped>\n    .dataframe tbody tr th:only-of-type {\n        vertical-align: middle;\n    }\n\n    .dataframe tbody tr th {\n        vertical-align: top;\n    }\n\n    .dataframe thead th {\n        text-align: right;\n    }\n</style>\n<table border=\"1\" class=\"dataframe\">\n  <thead>\n    <tr style=\"text-align: right;\">\n      <th></th>\n      <th>steps</th>\n      <th>cols</th>\n    </tr>\n    <tr>\n      <th>dates</th>\n      <th></th>\n      <th></th>\n    </tr>\n  </thead>\n  <tbody>\n    <tr>\n      <th>2020-08-01</th>\n      <td>1432.0</td>\n      <td>4300.0</td>\n    </tr>\n    <tr>\n      <th>2020-08-02</th>\n      <td>2331.0</td>\n      <td>2100.0</td>\n    </tr>\n    <tr>\n      <th>2020-08-03</th>\n      <td>0.0</td>\n      <td>0.0</td>\n    </tr>\n    <tr>\n      <th>2020-08-04</th>\n      <td>8283.0</td>\n      <td>3433.0</td>\n    </tr>\n    <tr>\n      <th>2020-08-05</th>\n      <td>0.0</td>\n      <td>0.0</td>\n    </tr>\n    <tr>\n      <th>2020-08-06</th>\n      <td>4332.0</td>\n      <td>4577.0</td>\n    </tr>\n    <tr>\n      <th>2020-08-07</th>\n      <td>3212.0</td>\n      <td>2365.0</td>\n    </tr>\n    <tr>\n      <th>2020-08-08</th>\n      <td>6543.0</td>\n      <td>6434.0</td>\n    </tr>\n    <tr>\n      <th>2020-08-09</th>\n      <td>2345.0</td>\n      <td>2653.0</td>\n    </tr>\n    <tr>\n      <th>2020-08-10</th>\n      <td>5433.0</td>\n      <td>5212.0</td>\n    </tr>\n    <tr>\n      <th>2020-08-11</th>\n      <td>2674.0</td>\n      <td>2643.0</td>\n    </tr>\n    <tr>\n      <th>2020-08-12</th>\n      <td>3765.0</td>\n      <td>2854.0</td>\n    </tr>\n    <tr>\n      <th>2020-08-13</th>\n      <td>4924.0</td>\n      <td>2754.0</td>\n    </tr>\n  </tbody>\n</table>\n</div>"
     },
     "metadata": {},
     "execution_count": 11
    }
   ],
   "source": [
    "df_202008_fillna = df_202008.fillna(0)\n",
    "df_202008_fillna"
   ]
  },
  {
   "cell_type": "code",
   "execution_count": 12,
   "metadata": {},
   "outputs": [
    {
     "output_type": "execute_result",
     "data": {
      "text/plain": "             steps    cols\ndates                     \n2020-08-01  1432.0  4300.0\n2020-08-02  2331.0  2100.0\n2020-08-03  2331.0  2100.0\n2020-08-04  8283.0  3433.0\n2020-08-05  8283.0  3433.0\n2020-08-06  4332.0  4577.0\n2020-08-07  3212.0  2365.0\n2020-08-08  6543.0  6434.0\n2020-08-09  2345.0  2653.0\n2020-08-10  5433.0  5212.0\n2020-08-11  2674.0  2643.0\n2020-08-12  3765.0  2854.0\n2020-08-13  4924.0  2754.0",
      "text/html": "<div>\n<style scoped>\n    .dataframe tbody tr th:only-of-type {\n        vertical-align: middle;\n    }\n\n    .dataframe tbody tr th {\n        vertical-align: top;\n    }\n\n    .dataframe thead th {\n        text-align: right;\n    }\n</style>\n<table border=\"1\" class=\"dataframe\">\n  <thead>\n    <tr style=\"text-align: right;\">\n      <th></th>\n      <th>steps</th>\n      <th>cols</th>\n    </tr>\n    <tr>\n      <th>dates</th>\n      <th></th>\n      <th></th>\n    </tr>\n  </thead>\n  <tbody>\n    <tr>\n      <th>2020-08-01</th>\n      <td>1432.0</td>\n      <td>4300.0</td>\n    </tr>\n    <tr>\n      <th>2020-08-02</th>\n      <td>2331.0</td>\n      <td>2100.0</td>\n    </tr>\n    <tr>\n      <th>2020-08-03</th>\n      <td>2331.0</td>\n      <td>2100.0</td>\n    </tr>\n    <tr>\n      <th>2020-08-04</th>\n      <td>8283.0</td>\n      <td>3433.0</td>\n    </tr>\n    <tr>\n      <th>2020-08-05</th>\n      <td>8283.0</td>\n      <td>3433.0</td>\n    </tr>\n    <tr>\n      <th>2020-08-06</th>\n      <td>4332.0</td>\n      <td>4577.0</td>\n    </tr>\n    <tr>\n      <th>2020-08-07</th>\n      <td>3212.0</td>\n      <td>2365.0</td>\n    </tr>\n    <tr>\n      <th>2020-08-08</th>\n      <td>6543.0</td>\n      <td>6434.0</td>\n    </tr>\n    <tr>\n      <th>2020-08-09</th>\n      <td>2345.0</td>\n      <td>2653.0</td>\n    </tr>\n    <tr>\n      <th>2020-08-10</th>\n      <td>5433.0</td>\n      <td>5212.0</td>\n    </tr>\n    <tr>\n      <th>2020-08-11</th>\n      <td>2674.0</td>\n      <td>2643.0</td>\n    </tr>\n    <tr>\n      <th>2020-08-12</th>\n      <td>3765.0</td>\n      <td>2854.0</td>\n    </tr>\n    <tr>\n      <th>2020-08-13</th>\n      <td>4924.0</td>\n      <td>2754.0</td>\n    </tr>\n  </tbody>\n</table>\n</div>"
     },
     "metadata": {},
     "execution_count": 12
    }
   ],
   "source": [
    "df_202008_fill = df_202008.fillna(method='ffill')\n",
    "df_202008_fill"
   ]
  },
  {
   "cell_type": "code",
   "execution_count": 13,
   "metadata": {},
   "outputs": [
    {
     "output_type": "execute_result",
     "data": {
      "text/plain": "             steps    cols\ndates                     \n2020-08-01  1432.0  4300.0\n2020-08-02  2331.0  2100.0\n2020-08-03  8283.0  3433.0\n2020-08-04  8283.0  3433.0\n2020-08-05  4332.0  4577.0\n2020-08-06  4332.0  4577.0\n2020-08-07  3212.0  2365.0\n2020-08-08  6543.0  6434.0\n2020-08-09  2345.0  2653.0\n2020-08-10  5433.0  5212.0\n2020-08-11  2674.0  2643.0\n2020-08-12  3765.0  2854.0\n2020-08-13  4924.0  2754.0",
      "text/html": "<div>\n<style scoped>\n    .dataframe tbody tr th:only-of-type {\n        vertical-align: middle;\n    }\n\n    .dataframe tbody tr th {\n        vertical-align: top;\n    }\n\n    .dataframe thead th {\n        text-align: right;\n    }\n</style>\n<table border=\"1\" class=\"dataframe\">\n  <thead>\n    <tr style=\"text-align: right;\">\n      <th></th>\n      <th>steps</th>\n      <th>cols</th>\n    </tr>\n    <tr>\n      <th>dates</th>\n      <th></th>\n      <th></th>\n    </tr>\n  </thead>\n  <tbody>\n    <tr>\n      <th>2020-08-01</th>\n      <td>1432.0</td>\n      <td>4300.0</td>\n    </tr>\n    <tr>\n      <th>2020-08-02</th>\n      <td>2331.0</td>\n      <td>2100.0</td>\n    </tr>\n    <tr>\n      <th>2020-08-03</th>\n      <td>8283.0</td>\n      <td>3433.0</td>\n    </tr>\n    <tr>\n      <th>2020-08-04</th>\n      <td>8283.0</td>\n      <td>3433.0</td>\n    </tr>\n    <tr>\n      <th>2020-08-05</th>\n      <td>4332.0</td>\n      <td>4577.0</td>\n    </tr>\n    <tr>\n      <th>2020-08-06</th>\n      <td>4332.0</td>\n      <td>4577.0</td>\n    </tr>\n    <tr>\n      <th>2020-08-07</th>\n      <td>3212.0</td>\n      <td>2365.0</td>\n    </tr>\n    <tr>\n      <th>2020-08-08</th>\n      <td>6543.0</td>\n      <td>6434.0</td>\n    </tr>\n    <tr>\n      <th>2020-08-09</th>\n      <td>2345.0</td>\n      <td>2653.0</td>\n    </tr>\n    <tr>\n      <th>2020-08-10</th>\n      <td>5433.0</td>\n      <td>5212.0</td>\n    </tr>\n    <tr>\n      <th>2020-08-11</th>\n      <td>2674.0</td>\n      <td>2643.0</td>\n    </tr>\n    <tr>\n      <th>2020-08-12</th>\n      <td>3765.0</td>\n      <td>2854.0</td>\n    </tr>\n    <tr>\n      <th>2020-08-13</th>\n      <td>4924.0</td>\n      <td>2754.0</td>\n    </tr>\n  </tbody>\n</table>\n</div>"
     },
     "metadata": {},
     "execution_count": 13
    }
   ],
   "source": [
    "df_202008_bfill = df_202008.fillna(method='bfill')\n",
    "df_202008_bfill"
   ]
  },
  {
   "cell_type": "code",
   "execution_count": 14,
   "metadata": {},
   "outputs": [
    {
     "output_type": "execute_result",
     "data": {
      "text/plain": "                  steps    cols\ndates                          \n2020-08-01  1432.000000  4300.0\n2020-08-02  2331.000000  2100.0\n2020-08-03  4115.818182  3575.0\n2020-08-04  8283.000000  3433.0\n2020-08-05  4115.818182  3575.0\n2020-08-06  4332.000000  4577.0\n2020-08-07  3212.000000  2365.0\n2020-08-08  6543.000000  6434.0\n2020-08-09  2345.000000  2653.0\n2020-08-10  5433.000000  5212.0\n2020-08-11  2674.000000  2643.0\n2020-08-12  3765.000000  2854.0\n2020-08-13  4924.000000  2754.0",
      "text/html": "<div>\n<style scoped>\n    .dataframe tbody tr th:only-of-type {\n        vertical-align: middle;\n    }\n\n    .dataframe tbody tr th {\n        vertical-align: top;\n    }\n\n    .dataframe thead th {\n        text-align: right;\n    }\n</style>\n<table border=\"1\" class=\"dataframe\">\n  <thead>\n    <tr style=\"text-align: right;\">\n      <th></th>\n      <th>steps</th>\n      <th>cols</th>\n    </tr>\n    <tr>\n      <th>dates</th>\n      <th></th>\n      <th></th>\n    </tr>\n  </thead>\n  <tbody>\n    <tr>\n      <th>2020-08-01</th>\n      <td>1432.000000</td>\n      <td>4300.0</td>\n    </tr>\n    <tr>\n      <th>2020-08-02</th>\n      <td>2331.000000</td>\n      <td>2100.0</td>\n    </tr>\n    <tr>\n      <th>2020-08-03</th>\n      <td>4115.818182</td>\n      <td>3575.0</td>\n    </tr>\n    <tr>\n      <th>2020-08-04</th>\n      <td>8283.000000</td>\n      <td>3433.0</td>\n    </tr>\n    <tr>\n      <th>2020-08-05</th>\n      <td>4115.818182</td>\n      <td>3575.0</td>\n    </tr>\n    <tr>\n      <th>2020-08-06</th>\n      <td>4332.000000</td>\n      <td>4577.0</td>\n    </tr>\n    <tr>\n      <th>2020-08-07</th>\n      <td>3212.000000</td>\n      <td>2365.0</td>\n    </tr>\n    <tr>\n      <th>2020-08-08</th>\n      <td>6543.000000</td>\n      <td>6434.0</td>\n    </tr>\n    <tr>\n      <th>2020-08-09</th>\n      <td>2345.000000</td>\n      <td>2653.0</td>\n    </tr>\n    <tr>\n      <th>2020-08-10</th>\n      <td>5433.000000</td>\n      <td>5212.0</td>\n    </tr>\n    <tr>\n      <th>2020-08-11</th>\n      <td>2674.000000</td>\n      <td>2643.0</td>\n    </tr>\n    <tr>\n      <th>2020-08-12</th>\n      <td>3765.000000</td>\n      <td>2854.0</td>\n    </tr>\n    <tr>\n      <th>2020-08-13</th>\n      <td>4924.000000</td>\n      <td>2754.0</td>\n    </tr>\n  </tbody>\n</table>\n</div>"
     },
     "metadata": {},
     "execution_count": 14
    }
   ],
   "source": [
    "df_202008_fillmean = df_202008.fillna(df_202008.mean())\n",
    "df_202008_fillmean"
   ]
  },
  {
   "cell_type": "code",
   "execution_count": 15,
   "metadata": {},
   "outputs": [
    {
     "output_type": "execute_result",
     "data": {
      "text/plain": "             steps    cols\ndates                     \n2020-08-01  1432.0  4300.0\n2020-08-02  2331.0  2100.0\n2020-08-03  3765.0  2854.0\n2020-08-04  8283.0  3433.0\n2020-08-05  3765.0  2854.0\n2020-08-06  4332.0  4577.0\n2020-08-07  3212.0  2365.0\n2020-08-08  6543.0  6434.0\n2020-08-09  2345.0  2653.0\n2020-08-10  5433.0  5212.0\n2020-08-11  2674.0  2643.0\n2020-08-12  3765.0  2854.0\n2020-08-13  4924.0  2754.0",
      "text/html": "<div>\n<style scoped>\n    .dataframe tbody tr th:only-of-type {\n        vertical-align: middle;\n    }\n\n    .dataframe tbody tr th {\n        vertical-align: top;\n    }\n\n    .dataframe thead th {\n        text-align: right;\n    }\n</style>\n<table border=\"1\" class=\"dataframe\">\n  <thead>\n    <tr style=\"text-align: right;\">\n      <th></th>\n      <th>steps</th>\n      <th>cols</th>\n    </tr>\n    <tr>\n      <th>dates</th>\n      <th></th>\n      <th></th>\n    </tr>\n  </thead>\n  <tbody>\n    <tr>\n      <th>2020-08-01</th>\n      <td>1432.0</td>\n      <td>4300.0</td>\n    </tr>\n    <tr>\n      <th>2020-08-02</th>\n      <td>2331.0</td>\n      <td>2100.0</td>\n    </tr>\n    <tr>\n      <th>2020-08-03</th>\n      <td>3765.0</td>\n      <td>2854.0</td>\n    </tr>\n    <tr>\n      <th>2020-08-04</th>\n      <td>8283.0</td>\n      <td>3433.0</td>\n    </tr>\n    <tr>\n      <th>2020-08-05</th>\n      <td>3765.0</td>\n      <td>2854.0</td>\n    </tr>\n    <tr>\n      <th>2020-08-06</th>\n      <td>4332.0</td>\n      <td>4577.0</td>\n    </tr>\n    <tr>\n      <th>2020-08-07</th>\n      <td>3212.0</td>\n      <td>2365.0</td>\n    </tr>\n    <tr>\n      <th>2020-08-08</th>\n      <td>6543.0</td>\n      <td>6434.0</td>\n    </tr>\n    <tr>\n      <th>2020-08-09</th>\n      <td>2345.0</td>\n      <td>2653.0</td>\n    </tr>\n    <tr>\n      <th>2020-08-10</th>\n      <td>5433.0</td>\n      <td>5212.0</td>\n    </tr>\n    <tr>\n      <th>2020-08-11</th>\n      <td>2674.0</td>\n      <td>2643.0</td>\n    </tr>\n    <tr>\n      <th>2020-08-12</th>\n      <td>3765.0</td>\n      <td>2854.0</td>\n    </tr>\n    <tr>\n      <th>2020-08-13</th>\n      <td>4924.0</td>\n      <td>2754.0</td>\n    </tr>\n  </tbody>\n</table>\n</div>"
     },
     "metadata": {},
     "execution_count": 15
    }
   ],
   "source": [
    "df_202008_fillmedian = df_202008.fillna(df_202008.median())\n",
    "df_202008_fillmedian"
   ]
  },
  {
   "cell_type": "code",
   "execution_count": 16,
   "metadata": {},
   "outputs": [
    {
     "output_type": "execute_result",
     "data": {
      "text/plain": "             steps    cols\ndates                     \n2020-08-01  1432.0  4300.0\n2020-08-02  2331.0  2100.0\n2020-08-03  1432.0  2100.0\n2020-08-04  8283.0  3433.0\n2020-08-05  1432.0  2100.0\n2020-08-06  4332.0  4577.0\n2020-08-07  3212.0  2365.0\n2020-08-08  6543.0  6434.0\n2020-08-09  2345.0  2653.0\n2020-08-10  5433.0  5212.0\n2020-08-11  2674.0  2643.0\n2020-08-12  3765.0  2854.0\n2020-08-13  4924.0  2754.0",
      "text/html": "<div>\n<style scoped>\n    .dataframe tbody tr th:only-of-type {\n        vertical-align: middle;\n    }\n\n    .dataframe tbody tr th {\n        vertical-align: top;\n    }\n\n    .dataframe thead th {\n        text-align: right;\n    }\n</style>\n<table border=\"1\" class=\"dataframe\">\n  <thead>\n    <tr style=\"text-align: right;\">\n      <th></th>\n      <th>steps</th>\n      <th>cols</th>\n    </tr>\n    <tr>\n      <th>dates</th>\n      <th></th>\n      <th></th>\n    </tr>\n  </thead>\n  <tbody>\n    <tr>\n      <th>2020-08-01</th>\n      <td>1432.0</td>\n      <td>4300.0</td>\n    </tr>\n    <tr>\n      <th>2020-08-02</th>\n      <td>2331.0</td>\n      <td>2100.0</td>\n    </tr>\n    <tr>\n      <th>2020-08-03</th>\n      <td>1432.0</td>\n      <td>2100.0</td>\n    </tr>\n    <tr>\n      <th>2020-08-04</th>\n      <td>8283.0</td>\n      <td>3433.0</td>\n    </tr>\n    <tr>\n      <th>2020-08-05</th>\n      <td>1432.0</td>\n      <td>2100.0</td>\n    </tr>\n    <tr>\n      <th>2020-08-06</th>\n      <td>4332.0</td>\n      <td>4577.0</td>\n    </tr>\n    <tr>\n      <th>2020-08-07</th>\n      <td>3212.0</td>\n      <td>2365.0</td>\n    </tr>\n    <tr>\n      <th>2020-08-08</th>\n      <td>6543.0</td>\n      <td>6434.0</td>\n    </tr>\n    <tr>\n      <th>2020-08-09</th>\n      <td>2345.0</td>\n      <td>2653.0</td>\n    </tr>\n    <tr>\n      <th>2020-08-10</th>\n      <td>5433.0</td>\n      <td>5212.0</td>\n    </tr>\n    <tr>\n      <th>2020-08-11</th>\n      <td>2674.0</td>\n      <td>2643.0</td>\n    </tr>\n    <tr>\n      <th>2020-08-12</th>\n      <td>3765.0</td>\n      <td>2854.0</td>\n    </tr>\n    <tr>\n      <th>2020-08-13</th>\n      <td>4924.0</td>\n      <td>2754.0</td>\n    </tr>\n  </tbody>\n</table>\n</div>"
     },
     "metadata": {},
     "execution_count": 16
    }
   ],
   "source": [
    "df_202008_fillmode = df_202008.fillna(df_202008.mode().iloc[0,:])\n",
    "df_202008_fillmode"
   ]
  },
  {
   "cell_type": "code",
   "execution_count": 17,
   "metadata": {},
   "outputs": [
    {
     "output_type": "execute_result",
     "data": {
      "text/plain": "                names    numbers  useful        lucky\ndate                                                 \n2020-01-02       衣锦夜行  1229000.0     182  unfortunate\n2020-01-03      异灵术老师   789000.0     596      general\n2020-01-04     暴雪游戏频道   621000.0     352      general\n2020-01-05  熊jolababy   361000.0     888    fortunate\n2020-01-06     ink丶墨泽   313000.0     373      general\n...               ...        ...     ...          ...\n2020-04-26       小风飘飘     3449.0     998    fortunate\n2020-04-27    抑郁哥在线20     3369.0     284  unfortunate\n2020-04-28     睿智的可达鸭     1851.0     944    fortunate\n2020-04-29      修行令狐冲     3106.0     740      general\n2020-04-30       好仁阿凯     3071.0     618      general\n\n[120 rows x 4 columns]",
      "text/html": "<div>\n<style scoped>\n    .dataframe tbody tr th:only-of-type {\n        vertical-align: middle;\n    }\n\n    .dataframe tbody tr th {\n        vertical-align: top;\n    }\n\n    .dataframe thead th {\n        text-align: right;\n    }\n</style>\n<table border=\"1\" class=\"dataframe\">\n  <thead>\n    <tr style=\"text-align: right;\">\n      <th></th>\n      <th>names</th>\n      <th>numbers</th>\n      <th>useful</th>\n      <th>lucky</th>\n    </tr>\n    <tr>\n      <th>date</th>\n      <th></th>\n      <th></th>\n      <th></th>\n      <th></th>\n    </tr>\n  </thead>\n  <tbody>\n    <tr>\n      <th>2020-01-02</th>\n      <td>衣锦夜行</td>\n      <td>1229000.0</td>\n      <td>182</td>\n      <td>unfortunate</td>\n    </tr>\n    <tr>\n      <th>2020-01-03</th>\n      <td>异灵术老师</td>\n      <td>789000.0</td>\n      <td>596</td>\n      <td>general</td>\n    </tr>\n    <tr>\n      <th>2020-01-04</th>\n      <td>暴雪游戏频道</td>\n      <td>621000.0</td>\n      <td>352</td>\n      <td>general</td>\n    </tr>\n    <tr>\n      <th>2020-01-05</th>\n      <td>熊jolababy</td>\n      <td>361000.0</td>\n      <td>888</td>\n      <td>fortunate</td>\n    </tr>\n    <tr>\n      <th>2020-01-06</th>\n      <td>ink丶墨泽</td>\n      <td>313000.0</td>\n      <td>373</td>\n      <td>general</td>\n    </tr>\n    <tr>\n      <th>...</th>\n      <td>...</td>\n      <td>...</td>\n      <td>...</td>\n      <td>...</td>\n    </tr>\n    <tr>\n      <th>2020-04-26</th>\n      <td>小风飘飘</td>\n      <td>3449.0</td>\n      <td>998</td>\n      <td>fortunate</td>\n    </tr>\n    <tr>\n      <th>2020-04-27</th>\n      <td>抑郁哥在线20</td>\n      <td>3369.0</td>\n      <td>284</td>\n      <td>unfortunate</td>\n    </tr>\n    <tr>\n      <th>2020-04-28</th>\n      <td>睿智的可达鸭</td>\n      <td>1851.0</td>\n      <td>944</td>\n      <td>fortunate</td>\n    </tr>\n    <tr>\n      <th>2020-04-29</th>\n      <td>修行令狐冲</td>\n      <td>3106.0</td>\n      <td>740</td>\n      <td>general</td>\n    </tr>\n    <tr>\n      <th>2020-04-30</th>\n      <td>好仁阿凯</td>\n      <td>3071.0</td>\n      <td>618</td>\n      <td>general</td>\n    </tr>\n  </tbody>\n</table>\n<p>120 rows × 4 columns</p>\n</div>"
     },
     "metadata": {},
     "execution_count": 17
    }
   ],
   "source": [
    "df_data = pd.read_pickle('../prop/20200828data.pickle')\n",
    "df_data"
   ]
  },
  {
   "cell_type": "code",
   "execution_count": 18,
   "metadata": {},
   "outputs": [
    {
     "output_type": "execute_result",
     "data": {
      "text/plain": "            Judge_fortunate  Judge_general  Judge_unfortunate\ndate                                                         \n2020-01-02                0              0                  1\n2020-01-03                0              1                  0\n2020-01-04                0              1                  0\n2020-01-05                1              0                  0\n2020-01-06                0              1                  0\n...                     ...            ...                ...\n2020-04-26                1              0                  0\n2020-04-27                0              0                  1\n2020-04-28                1              0                  0\n2020-04-29                0              1                  0\n2020-04-30                0              1                  0\n\n[120 rows x 3 columns]",
      "text/html": "<div>\n<style scoped>\n    .dataframe tbody tr th:only-of-type {\n        vertical-align: middle;\n    }\n\n    .dataframe tbody tr th {\n        vertical-align: top;\n    }\n\n    .dataframe thead th {\n        text-align: right;\n    }\n</style>\n<table border=\"1\" class=\"dataframe\">\n  <thead>\n    <tr style=\"text-align: right;\">\n      <th></th>\n      <th>Judge_fortunate</th>\n      <th>Judge_general</th>\n      <th>Judge_unfortunate</th>\n    </tr>\n    <tr>\n      <th>date</th>\n      <th></th>\n      <th></th>\n      <th></th>\n    </tr>\n  </thead>\n  <tbody>\n    <tr>\n      <th>2020-01-02</th>\n      <td>0</td>\n      <td>0</td>\n      <td>1</td>\n    </tr>\n    <tr>\n      <th>2020-01-03</th>\n      <td>0</td>\n      <td>1</td>\n      <td>0</td>\n    </tr>\n    <tr>\n      <th>2020-01-04</th>\n      <td>0</td>\n      <td>1</td>\n      <td>0</td>\n    </tr>\n    <tr>\n      <th>2020-01-05</th>\n      <td>1</td>\n      <td>0</td>\n      <td>0</td>\n    </tr>\n    <tr>\n      <th>2020-01-06</th>\n      <td>0</td>\n      <td>1</td>\n      <td>0</td>\n    </tr>\n    <tr>\n      <th>...</th>\n      <td>...</td>\n      <td>...</td>\n      <td>...</td>\n    </tr>\n    <tr>\n      <th>2020-04-26</th>\n      <td>1</td>\n      <td>0</td>\n      <td>0</td>\n    </tr>\n    <tr>\n      <th>2020-04-27</th>\n      <td>0</td>\n      <td>0</td>\n      <td>1</td>\n    </tr>\n    <tr>\n      <th>2020-04-28</th>\n      <td>1</td>\n      <td>0</td>\n      <td>0</td>\n    </tr>\n    <tr>\n      <th>2020-04-29</th>\n      <td>0</td>\n      <td>1</td>\n      <td>0</td>\n    </tr>\n    <tr>\n      <th>2020-04-30</th>\n      <td>0</td>\n      <td>1</td>\n      <td>0</td>\n    </tr>\n  </tbody>\n</table>\n<p>120 rows × 3 columns</p>\n</div>"
     },
     "metadata": {},
     "execution_count": 18
    }
   ],
   "source": [
    "df_moved = pd.read_pickle('../prop/20200828moved.pickle')\n",
    "df_moved"
   ]
  },
  {
   "cell_type": "code",
   "execution_count": 19,
   "metadata": {},
   "outputs": [
    {
     "output_type": "execute_result",
     "data": {
      "text/plain": "                names    numbers  useful        lucky  Judge_fortunate  \\\ndate                                                                     \n2020-01-02       衣锦夜行  1229000.0     182  unfortunate                0   \n2020-01-03      异灵术老师   789000.0     596      general                0   \n2020-01-04     暴雪游戏频道   621000.0     352      general                0   \n2020-01-05  熊jolababy   361000.0     888    fortunate                1   \n2020-01-06     ink丶墨泽   313000.0     373      general                0   \n...               ...        ...     ...          ...              ...   \n2020-04-26       小风飘飘     3449.0     998    fortunate                1   \n2020-04-27    抑郁哥在线20     3369.0     284  unfortunate                0   \n2020-04-28     睿智的可达鸭     1851.0     944    fortunate                1   \n2020-04-29      修行令狐冲     3106.0     740      general                0   \n2020-04-30       好仁阿凯     3071.0     618      general                0   \n\n            Judge_general  Judge_unfortunate  \ndate                                          \n2020-01-02              0                  1  \n2020-01-03              1                  0  \n2020-01-04              1                  0  \n2020-01-05              0                  0  \n2020-01-06              1                  0  \n...                   ...                ...  \n2020-04-26              0                  0  \n2020-04-27              0                  1  \n2020-04-28              0                  0  \n2020-04-29              1                  0  \n2020-04-30              1                  0  \n\n[120 rows x 7 columns]",
      "text/html": "<div>\n<style scoped>\n    .dataframe tbody tr th:only-of-type {\n        vertical-align: middle;\n    }\n\n    .dataframe tbody tr th {\n        vertical-align: top;\n    }\n\n    .dataframe thead th {\n        text-align: right;\n    }\n</style>\n<table border=\"1\" class=\"dataframe\">\n  <thead>\n    <tr style=\"text-align: right;\">\n      <th></th>\n      <th>names</th>\n      <th>numbers</th>\n      <th>useful</th>\n      <th>lucky</th>\n      <th>Judge_fortunate</th>\n      <th>Judge_general</th>\n      <th>Judge_unfortunate</th>\n    </tr>\n    <tr>\n      <th>date</th>\n      <th></th>\n      <th></th>\n      <th></th>\n      <th></th>\n      <th></th>\n      <th></th>\n      <th></th>\n    </tr>\n  </thead>\n  <tbody>\n    <tr>\n      <th>2020-01-02</th>\n      <td>衣锦夜行</td>\n      <td>1229000.0</td>\n      <td>182</td>\n      <td>unfortunate</td>\n      <td>0</td>\n      <td>0</td>\n      <td>1</td>\n    </tr>\n    <tr>\n      <th>2020-01-03</th>\n      <td>异灵术老师</td>\n      <td>789000.0</td>\n      <td>596</td>\n      <td>general</td>\n      <td>0</td>\n      <td>1</td>\n      <td>0</td>\n    </tr>\n    <tr>\n      <th>2020-01-04</th>\n      <td>暴雪游戏频道</td>\n      <td>621000.0</td>\n      <td>352</td>\n      <td>general</td>\n      <td>0</td>\n      <td>1</td>\n      <td>0</td>\n    </tr>\n    <tr>\n      <th>2020-01-05</th>\n      <td>熊jolababy</td>\n      <td>361000.0</td>\n      <td>888</td>\n      <td>fortunate</td>\n      <td>1</td>\n      <td>0</td>\n      <td>0</td>\n    </tr>\n    <tr>\n      <th>2020-01-06</th>\n      <td>ink丶墨泽</td>\n      <td>313000.0</td>\n      <td>373</td>\n      <td>general</td>\n      <td>0</td>\n      <td>1</td>\n      <td>0</td>\n    </tr>\n    <tr>\n      <th>...</th>\n      <td>...</td>\n      <td>...</td>\n      <td>...</td>\n      <td>...</td>\n      <td>...</td>\n      <td>...</td>\n      <td>...</td>\n    </tr>\n    <tr>\n      <th>2020-04-26</th>\n      <td>小风飘飘</td>\n      <td>3449.0</td>\n      <td>998</td>\n      <td>fortunate</td>\n      <td>1</td>\n      <td>0</td>\n      <td>0</td>\n    </tr>\n    <tr>\n      <th>2020-04-27</th>\n      <td>抑郁哥在线20</td>\n      <td>3369.0</td>\n      <td>284</td>\n      <td>unfortunate</td>\n      <td>0</td>\n      <td>0</td>\n      <td>1</td>\n    </tr>\n    <tr>\n      <th>2020-04-28</th>\n      <td>睿智的可达鸭</td>\n      <td>1851.0</td>\n      <td>944</td>\n      <td>fortunate</td>\n      <td>1</td>\n      <td>0</td>\n      <td>0</td>\n    </tr>\n    <tr>\n      <th>2020-04-29</th>\n      <td>修行令狐冲</td>\n      <td>3106.0</td>\n      <td>740</td>\n      <td>general</td>\n      <td>0</td>\n      <td>1</td>\n      <td>0</td>\n    </tr>\n    <tr>\n      <th>2020-04-30</th>\n      <td>好仁阿凯</td>\n      <td>3071.0</td>\n      <td>618</td>\n      <td>general</td>\n      <td>0</td>\n      <td>1</td>\n      <td>0</td>\n    </tr>\n  </tbody>\n</table>\n<p>120 rows × 7 columns</p>\n</div>"
     },
     "metadata": {},
     "execution_count": 19
    }
   ],
   "source": [
    "df_merged = pd.concat([df_data, df_moved], axis=1)\n",
    "df_merged"
   ]
  },
  {
   "cell_type": "code",
   "execution_count": 20,
   "metadata": {},
   "outputs": [
    {
     "output_type": "execute_result",
     "data": {
      "text/plain": "              cols        steps\ndates                          \n2020-08-01  4300.0  1432.000000\n2020-08-02  2100.0  2331.000000\n2020-08-03  3575.0  4115.818182\n2020-08-04  3433.0  8283.000000\n2020-08-05  3575.0  4115.818182\n2020-08-06  4577.0  4332.000000\n2020-08-07  2365.0  3212.000000\n2020-08-08  6434.0  6543.000000\n2020-08-09  2653.0  2345.000000\n2020-08-10  5212.0  5433.000000\n2020-08-11  2643.0  2674.000000\n2020-08-12  2854.0  3765.000000\n2020-08-13  2754.0  4924.000000\n2020-08-01  4300.0  1432.000000\n2020-08-02  2100.0  2331.000000\n2020-08-03     0.0     0.000000\n2020-08-04  3433.0  8283.000000\n2020-08-05     0.0     0.000000\n2020-08-06  4577.0  4332.000000\n2020-08-07  2365.0  3212.000000\n2020-08-08  6434.0  6543.000000\n2020-08-09  2653.0  2345.000000\n2020-08-10  5212.0  5433.000000\n2020-08-11  2643.0  2674.000000\n2020-08-12  2854.0  3765.000000\n2020-08-13  2754.0  4924.000000",
      "text/html": "<div>\n<style scoped>\n    .dataframe tbody tr th:only-of-type {\n        vertical-align: middle;\n    }\n\n    .dataframe tbody tr th {\n        vertical-align: top;\n    }\n\n    .dataframe thead th {\n        text-align: right;\n    }\n</style>\n<table border=\"1\" class=\"dataframe\">\n  <thead>\n    <tr style=\"text-align: right;\">\n      <th></th>\n      <th>cols</th>\n      <th>steps</th>\n    </tr>\n    <tr>\n      <th>dates</th>\n      <th></th>\n      <th></th>\n    </tr>\n  </thead>\n  <tbody>\n    <tr>\n      <th>2020-08-01</th>\n      <td>4300.0</td>\n      <td>1432.000000</td>\n    </tr>\n    <tr>\n      <th>2020-08-02</th>\n      <td>2100.0</td>\n      <td>2331.000000</td>\n    </tr>\n    <tr>\n      <th>2020-08-03</th>\n      <td>3575.0</td>\n      <td>4115.818182</td>\n    </tr>\n    <tr>\n      <th>2020-08-04</th>\n      <td>3433.0</td>\n      <td>8283.000000</td>\n    </tr>\n    <tr>\n      <th>2020-08-05</th>\n      <td>3575.0</td>\n      <td>4115.818182</td>\n    </tr>\n    <tr>\n      <th>2020-08-06</th>\n      <td>4577.0</td>\n      <td>4332.000000</td>\n    </tr>\n    <tr>\n      <th>2020-08-07</th>\n      <td>2365.0</td>\n      <td>3212.000000</td>\n    </tr>\n    <tr>\n      <th>2020-08-08</th>\n      <td>6434.0</td>\n      <td>6543.000000</td>\n    </tr>\n    <tr>\n      <th>2020-08-09</th>\n      <td>2653.0</td>\n      <td>2345.000000</td>\n    </tr>\n    <tr>\n      <th>2020-08-10</th>\n      <td>5212.0</td>\n      <td>5433.000000</td>\n    </tr>\n    <tr>\n      <th>2020-08-11</th>\n      <td>2643.0</td>\n      <td>2674.000000</td>\n    </tr>\n    <tr>\n      <th>2020-08-12</th>\n      <td>2854.0</td>\n      <td>3765.000000</td>\n    </tr>\n    <tr>\n      <th>2020-08-13</th>\n      <td>2754.0</td>\n      <td>4924.000000</td>\n    </tr>\n    <tr>\n      <th>2020-08-01</th>\n      <td>4300.0</td>\n      <td>1432.000000</td>\n    </tr>\n    <tr>\n      <th>2020-08-02</th>\n      <td>2100.0</td>\n      <td>2331.000000</td>\n    </tr>\n    <tr>\n      <th>2020-08-03</th>\n      <td>0.0</td>\n      <td>0.000000</td>\n    </tr>\n    <tr>\n      <th>2020-08-04</th>\n      <td>3433.0</td>\n      <td>8283.000000</td>\n    </tr>\n    <tr>\n      <th>2020-08-05</th>\n      <td>0.0</td>\n      <td>0.000000</td>\n    </tr>\n    <tr>\n      <th>2020-08-06</th>\n      <td>4577.0</td>\n      <td>4332.000000</td>\n    </tr>\n    <tr>\n      <th>2020-08-07</th>\n      <td>2365.0</td>\n      <td>3212.000000</td>\n    </tr>\n    <tr>\n      <th>2020-08-08</th>\n      <td>6434.0</td>\n      <td>6543.000000</td>\n    </tr>\n    <tr>\n      <th>2020-08-09</th>\n      <td>2653.0</td>\n      <td>2345.000000</td>\n    </tr>\n    <tr>\n      <th>2020-08-10</th>\n      <td>5212.0</td>\n      <td>5433.000000</td>\n    </tr>\n    <tr>\n      <th>2020-08-11</th>\n      <td>2643.0</td>\n      <td>2674.000000</td>\n    </tr>\n    <tr>\n      <th>2020-08-12</th>\n      <td>2854.0</td>\n      <td>3765.000000</td>\n    </tr>\n    <tr>\n      <th>2020-08-13</th>\n      <td>2754.0</td>\n      <td>4924.000000</td>\n    </tr>\n  </tbody>\n</table>\n</div>"
     },
     "metadata": {},
     "execution_count": 20
    }
   ],
   "source": [
    "df_merged2 = pd.concat([df_202008_fillmean, df_202008_fillna], axis=0, sort=True)\n",
    "df_merged2"
   ]
  },
  {
   "cell_type": "code",
   "execution_count": 21,
   "metadata": {},
   "outputs": [
    {
     "output_type": "execute_result",
     "data": {
      "text/plain": "                  steps    cols\ndates                          \n2020-08-01  1432.000000  4300.0\n2020-08-02  2331.000000  2100.0\n2020-08-03  4115.818182  3575.0\n2020-08-04  8283.000000  3433.0\n2020-08-05  4115.818182  3575.0",
      "text/html": "<div>\n<style scoped>\n    .dataframe tbody tr th:only-of-type {\n        vertical-align: middle;\n    }\n\n    .dataframe tbody tr th {\n        vertical-align: top;\n    }\n\n    .dataframe thead th {\n        text-align: right;\n    }\n</style>\n<table border=\"1\" class=\"dataframe\">\n  <thead>\n    <tr style=\"text-align: right;\">\n      <th></th>\n      <th>steps</th>\n      <th>cols</th>\n    </tr>\n    <tr>\n      <th>dates</th>\n      <th></th>\n      <th></th>\n    </tr>\n  </thead>\n  <tbody>\n    <tr>\n      <th>2020-08-01</th>\n      <td>1432.000000</td>\n      <td>4300.0</td>\n    </tr>\n    <tr>\n      <th>2020-08-02</th>\n      <td>2331.000000</td>\n      <td>2100.0</td>\n    </tr>\n    <tr>\n      <th>2020-08-03</th>\n      <td>4115.818182</td>\n      <td>3575.0</td>\n    </tr>\n    <tr>\n      <th>2020-08-04</th>\n      <td>8283.000000</td>\n      <td>3433.0</td>\n    </tr>\n    <tr>\n      <th>2020-08-05</th>\n      <td>4115.818182</td>\n      <td>3575.0</td>\n    </tr>\n  </tbody>\n</table>\n</div>"
     },
     "metadata": {},
     "execution_count": 21
    }
   ],
   "source": [
    "df_202008_fillmean.head()"
   ]
  },
  {
   "cell_type": "code",
   "execution_count": 22,
   "metadata": {},
   "outputs": [
    {
     "output_type": "execute_result",
     "data": {
      "text/plain": "6434.0"
     },
     "metadata": {},
     "execution_count": 22
    }
   ],
   "source": [
    "df_202008_fillmean.loc[:,'cols'].max()"
   ]
  },
  {
   "cell_type": "code",
   "execution_count": 23,
   "metadata": {},
   "outputs": [
    {
     "output_type": "execute_result",
     "data": {
      "text/plain": "2100.0"
     },
     "metadata": {},
     "execution_count": 23
    }
   ],
   "source": [
    "df_202008_fillmean.loc[:,'cols'].min()"
   ]
  },
  {
   "cell_type": "code",
   "execution_count": 24,
   "metadata": {},
   "outputs": [
    {
     "output_type": "execute_result",
     "data": {
      "text/plain": "0    3575.0\ndtype: float64"
     },
     "metadata": {},
     "execution_count": 24
    }
   ],
   "source": [
    "df_202008_fillmean.loc[:,'cols'].mode()"
   ]
  },
  {
   "cell_type": "code",
   "execution_count": 25,
   "metadata": {},
   "outputs": [
    {
     "output_type": "execute_result",
     "data": {
      "text/plain": "3575.0"
     },
     "metadata": {},
     "execution_count": 25
    }
   ],
   "source": [
    "df_202008_fillmean.loc[:,'cols'].mean()"
   ]
  },
  {
   "cell_type": "code",
   "execution_count": 26,
   "metadata": {},
   "outputs": [
    {
     "output_type": "execute_result",
     "data": {
      "text/plain": "3433.0"
     },
     "metadata": {},
     "execution_count": 26
    }
   ],
   "source": [
    "df_202008_fillmean.loc[:,'cols'].median()"
   ]
  },
  {
   "cell_type": "code",
   "execution_count": 27,
   "metadata": {},
   "outputs": [
    {
     "output_type": "execute_result",
     "data": {
      "text/plain": "1256.839886381714"
     },
     "metadata": {},
     "execution_count": 27
    }
   ],
   "source": [
    "df_202008_fillmean.loc[:,'cols'].std()"
   ]
  },
  {
   "cell_type": "code",
   "execution_count": 28,
   "metadata": {},
   "outputs": [
    {
     "output_type": "execute_result",
     "data": {
      "text/plain": "1207.532703809396"
     },
     "metadata": {},
     "execution_count": 28
    }
   ],
   "source": [
    "df_202008_fillmean.loc[:,'cols'].std(ddof=0)"
   ]
  },
  {
   "cell_type": "code",
   "execution_count": 29,
   "metadata": {},
   "outputs": [
    {
     "output_type": "execute_result",
     "data": {
      "text/plain": "steps    2\ncols     2\ndtype: int64"
     },
     "metadata": {},
     "execution_count": 29
    }
   ],
   "source": [
    "df_202008_fillmean[df_202008_fillmean.loc[:,'cols'] == 3575].count()"
   ]
  },
  {
   "cell_type": "code",
   "execution_count": 30,
   "metadata": {},
   "outputs": [
    {
     "output_type": "execute_result",
     "data": {
      "text/plain": "             steps         cols\ncount    13.000000    13.000000\nmean   4115.818182  3575.000000\nstd    1876.044812  1256.839886\nmin    1432.000000  2100.000000\n25%    2674.000000  2653.000000\n50%    4115.818182  3433.000000\n75%    4924.000000  4300.000000\nmax    8283.000000  6434.000000",
      "text/html": "<div>\n<style scoped>\n    .dataframe tbody tr th:only-of-type {\n        vertical-align: middle;\n    }\n\n    .dataframe tbody tr th {\n        vertical-align: top;\n    }\n\n    .dataframe thead th {\n        text-align: right;\n    }\n</style>\n<table border=\"1\" class=\"dataframe\">\n  <thead>\n    <tr style=\"text-align: right;\">\n      <th></th>\n      <th>steps</th>\n      <th>cols</th>\n    </tr>\n  </thead>\n  <tbody>\n    <tr>\n      <th>count</th>\n      <td>13.000000</td>\n      <td>13.000000</td>\n    </tr>\n    <tr>\n      <th>mean</th>\n      <td>4115.818182</td>\n      <td>3575.000000</td>\n    </tr>\n    <tr>\n      <th>std</th>\n      <td>1876.044812</td>\n      <td>1256.839886</td>\n    </tr>\n    <tr>\n      <th>min</th>\n      <td>1432.000000</td>\n      <td>2100.000000</td>\n    </tr>\n    <tr>\n      <th>25%</th>\n      <td>2674.000000</td>\n      <td>2653.000000</td>\n    </tr>\n    <tr>\n      <th>50%</th>\n      <td>4115.818182</td>\n      <td>3433.000000</td>\n    </tr>\n    <tr>\n      <th>75%</th>\n      <td>4924.000000</td>\n      <td>4300.000000</td>\n    </tr>\n    <tr>\n      <th>max</th>\n      <td>8283.000000</td>\n      <td>6434.000000</td>\n    </tr>\n  </tbody>\n</table>\n</div>"
     },
     "metadata": {},
     "execution_count": 30
    }
   ],
   "source": [
    "df_202008_fillmean.describe()"
   ]
  },
  {
   "cell_type": "code",
   "execution_count": 37,
   "metadata": {},
   "outputs": [
    {
     "output_type": "execute_result",
     "data": {
      "text/plain": "steps    4115.818182\ncols     3433.000000\nName: 0.5, dtype: float64"
     },
     "metadata": {},
     "execution_count": 37
    }
   ],
   "source": [
    "df_202008_fillmean.quantile()"
   ]
  },
  {
   "cell_type": "code",
   "execution_count": 38,
   "metadata": {},
   "outputs": [
    {
     "output_type": "execute_result",
     "data": {
      "text/plain": "            steps    cols\n0.00  1432.000000  2100.0\n0.25  2674.000000  2653.0\n0.50  4115.818182  3433.0\n0.75  4924.000000  4300.0\n1.00  8283.000000  6434.0",
      "text/html": "<div>\n<style scoped>\n    .dataframe tbody tr th:only-of-type {\n        vertical-align: middle;\n    }\n\n    .dataframe tbody tr th {\n        vertical-align: top;\n    }\n\n    .dataframe thead th {\n        text-align: right;\n    }\n</style>\n<table border=\"1\" class=\"dataframe\">\n  <thead>\n    <tr style=\"text-align: right;\">\n      <th></th>\n      <th>steps</th>\n      <th>cols</th>\n    </tr>\n  </thead>\n  <tbody>\n    <tr>\n      <th>0.00</th>\n      <td>1432.000000</td>\n      <td>2100.0</td>\n    </tr>\n    <tr>\n      <th>0.25</th>\n      <td>2674.000000</td>\n      <td>2653.0</td>\n    </tr>\n    <tr>\n      <th>0.50</th>\n      <td>4115.818182</td>\n      <td>3433.0</td>\n    </tr>\n    <tr>\n      <th>0.75</th>\n      <td>4924.000000</td>\n      <td>4300.0</td>\n    </tr>\n    <tr>\n      <th>1.00</th>\n      <td>8283.000000</td>\n      <td>6434.0</td>\n    </tr>\n  </tbody>\n</table>\n</div>"
     },
     "metadata": {},
     "execution_count": 38
    }
   ],
   "source": [
    "df_202008_fillmean.quantile([0, 0.25, 0.5, 0.75, 1.0])"
   ]
  },
  {
   "cell_type": "code",
   "execution_count": 31,
   "metadata": {},
   "outputs": [
    {
     "output_type": "execute_result",
     "data": {
      "text/plain": "         steps     cols\nsteps  1.00000  0.46181\ncols   0.46181  1.00000",
      "text/html": "<div>\n<style scoped>\n    .dataframe tbody tr th:only-of-type {\n        vertical-align: middle;\n    }\n\n    .dataframe tbody tr th {\n        vertical-align: top;\n    }\n\n    .dataframe thead th {\n        text-align: right;\n    }\n</style>\n<table border=\"1\" class=\"dataframe\">\n  <thead>\n    <tr style=\"text-align: right;\">\n      <th></th>\n      <th>steps</th>\n      <th>cols</th>\n    </tr>\n  </thead>\n  <tbody>\n    <tr>\n      <th>steps</th>\n      <td>1.00000</td>\n      <td>0.46181</td>\n    </tr>\n    <tr>\n      <th>cols</th>\n      <td>0.46181</td>\n      <td>1.00000</td>\n    </tr>\n  </tbody>\n</table>\n</div>"
     },
     "metadata": {},
     "execution_count": 31
    }
   ],
   "source": [
    "df_202008_fillmean.corr()"
   ]
  },
  {
   "cell_type": "code",
   "execution_count": 32,
   "metadata": {},
   "outputs": [
    {
     "output_type": "display_data",
     "data": {
      "text/plain": "<Figure size 432x288 with 4 Axes>",
      "image/svg+xml": "<?xml version=\"1.0\" encoding=\"utf-8\" standalone=\"no\"?>\r\n<!DOCTYPE svg PUBLIC \"-//W3C//DTD SVG 1.1//EN\"\r\n  \"http://www.w3.org/Graphics/SVG/1.1/DTD/svg11.dtd\">\r\n<!-- Created with matplotlib (https://matplotlib.org/) -->\r\n<svg height=\"272.878125pt\" version=\"1.1\" viewBox=\"0 0 390.238125 272.878125\" width=\"390.238125pt\" xmlns=\"http://www.w3.org/2000/svg\" xmlns:xlink=\"http://www.w3.org/1999/xlink\">\r\n <metadata>\r\n  <rdf:RDF xmlns:cc=\"http://creativecommons.org/ns#\" xmlns:dc=\"http://purl.org/dc/elements/1.1/\" xmlns:rdf=\"http://www.w3.org/1999/02/22-rdf-syntax-ns#\">\r\n   <cc:Work>\r\n    <dc:type rdf:resource=\"http://purl.org/dc/dcmitype/StillImage\"/>\r\n    <dc:date>2020-09-16T15:27:03.374182</dc:date>\r\n    <dc:format>image/svg+xml</dc:format>\r\n    <dc:creator>\r\n     <cc:Agent>\r\n      <dc:title>Matplotlib v3.3.1, https://matplotlib.org/</dc:title>\r\n     </cc:Agent>\r\n    </dc:creator>\r\n   </cc:Work>\r\n  </rdf:RDF>\r\n </metadata>\r\n <defs>\r\n  <style type=\"text/css\">*{stroke-linecap:butt;stroke-linejoin:round;}</style>\r\n </defs>\r\n <g id=\"figure_1\">\r\n  <g id=\"patch_1\">\r\n   <path d=\"M 0 272.878125 \r\nL 390.238125 272.878125 \r\nL 390.238125 0 \r\nL 0 0 \r\nz\r\n\" style=\"fill:none;\"/>\r\n  </g>\r\n  <g id=\"axes_1\">\r\n   <g id=\"patch_2\">\r\n    <path d=\"M 48.238125 115.92 \r\nL 215.638125 115.92 \r\nL 215.638125 7.2 \r\nL 48.238125 7.2 \r\nz\r\n\" style=\"fill:#ffffff;\"/>\r\n   </g>\r\n   <g id=\"patch_3\">\r\n    <path clip-path=\"url(#pb05d48ee42)\" d=\"M 52.223839 115.92 \r\nL 68.166696 115.92 \r\nL 68.166696 81.405714 \r\nL 52.223839 81.405714 \r\nz\r\n\" style=\"fill:#1f77b4;\"/>\r\n   </g>\r\n   <g id=\"patch_4\">\r\n    <path clip-path=\"url(#pb05d48ee42)\" d=\"M 68.166696 115.92 \r\nL 84.109554 115.92 \r\nL 84.109554 12.377143 \r\nL 68.166696 12.377143 \r\nz\r\n\" style=\"fill:#1f77b4;\"/>\r\n   </g>\r\n   <g id=\"patch_5\">\r\n    <path clip-path=\"url(#pb05d48ee42)\" d=\"M 84.109554 115.92 \r\nL 100.052411 115.92 \r\nL 100.052411 81.405714 \r\nL 84.109554 81.405714 \r\nz\r\n\" style=\"fill:#1f77b4;\"/>\r\n   </g>\r\n   <g id=\"patch_6\">\r\n    <path clip-path=\"url(#pb05d48ee42)\" d=\"M 100.052411 115.92 \r\nL 115.995268 115.92 \r\nL 115.995268 12.377143 \r\nL 100.052411 12.377143 \r\nz\r\n\" style=\"fill:#1f77b4;\"/>\r\n   </g>\r\n   <g id=\"patch_7\">\r\n    <path clip-path=\"url(#pb05d48ee42)\" d=\"M 115.995268 115.92 \r\nL 131.938125 115.92 \r\nL 131.938125 81.405714 \r\nL 115.995268 81.405714 \r\nz\r\n\" style=\"fill:#1f77b4;\"/>\r\n   </g>\r\n   <g id=\"patch_8\">\r\n    <path clip-path=\"url(#pb05d48ee42)\" d=\"M 131.938125 115.92 \r\nL 147.880982 115.92 \r\nL 147.880982 46.891429 \r\nL 131.938125 46.891429 \r\nz\r\n\" style=\"fill:#1f77b4;\"/>\r\n   </g>\r\n   <g id=\"patch_9\">\r\n    <path clip-path=\"url(#pb05d48ee42)\" d=\"M 147.880982 115.92 \r\nL 163.823839 115.92 \r\nL 163.823839 115.92 \r\nL 147.880982 115.92 \r\nz\r\n\" style=\"fill:#1f77b4;\"/>\r\n   </g>\r\n   <g id=\"patch_10\">\r\n    <path clip-path=\"url(#pb05d48ee42)\" d=\"M 163.823839 115.92 \r\nL 179.766696 115.92 \r\nL 179.766696 81.405714 \r\nL 163.823839 81.405714 \r\nz\r\n\" style=\"fill:#1f77b4;\"/>\r\n   </g>\r\n   <g id=\"patch_11\">\r\n    <path clip-path=\"url(#pb05d48ee42)\" d=\"M 179.766696 115.92 \r\nL 195.709554 115.92 \r\nL 195.709554 115.92 \r\nL 179.766696 115.92 \r\nz\r\n\" style=\"fill:#1f77b4;\"/>\r\n   </g>\r\n   <g id=\"patch_12\">\r\n    <path clip-path=\"url(#pb05d48ee42)\" d=\"M 195.709554 115.92 \r\nL 211.652411 115.92 \r\nL 211.652411 81.405714 \r\nL 195.709554 81.405714 \r\nz\r\n\" style=\"fill:#1f77b4;\"/>\r\n   </g>\r\n   <g id=\"matplotlib.axis_1\">\r\n    <g id=\"ytick_1\">\r\n     <g id=\"line2d_1\">\r\n      <defs>\r\n       <path d=\"M 0 0 \r\nL -3.5 0 \r\n\" id=\"m66b30106e4\" style=\"stroke:#000000;stroke-width:0.8;\"/>\r\n      </defs>\r\n      <g>\r\n       <use style=\"stroke:#000000;stroke-width:0.8;\" x=\"48.238125\" xlink:href=\"#m66b30106e4\" y=\"104.746938\"/>\r\n      </g>\r\n     </g>\r\n     <g id=\"text_1\">\r\n      <!-- 2000 -->\r\n      <g transform=\"translate(20.878125 107.786313)scale(0.08 -0.08)\">\r\n       <defs>\r\n        <path d=\"M 19.1875 8.296875 \r\nL 53.609375 8.296875 \r\nL 53.609375 0 \r\nL 7.328125 0 \r\nL 7.328125 8.296875 \r\nQ 12.9375 14.109375 22.625 23.890625 \r\nQ 32.328125 33.6875 34.8125 36.53125 \r\nQ 39.546875 41.84375 41.421875 45.53125 \r\nQ 43.3125 49.21875 43.3125 52.78125 \r\nQ 43.3125 58.59375 39.234375 62.25 \r\nQ 35.15625 65.921875 28.609375 65.921875 \r\nQ 23.96875 65.921875 18.8125 64.3125 \r\nQ 13.671875 62.703125 7.8125 59.421875 \r\nL 7.8125 69.390625 \r\nQ 13.765625 71.78125 18.9375 73 \r\nQ 24.125 74.21875 28.421875 74.21875 \r\nQ 39.75 74.21875 46.484375 68.546875 \r\nQ 53.21875 62.890625 53.21875 53.421875 \r\nQ 53.21875 48.921875 51.53125 44.890625 \r\nQ 49.859375 40.875 45.40625 35.40625 \r\nQ 44.1875 33.984375 37.640625 27.21875 \r\nQ 31.109375 20.453125 19.1875 8.296875 \r\nz\r\n\" id=\"DejaVuSans-50\"/>\r\n        <path d=\"M 31.78125 66.40625 \r\nQ 24.171875 66.40625 20.328125 58.90625 \r\nQ 16.5 51.421875 16.5 36.375 \r\nQ 16.5 21.390625 20.328125 13.890625 \r\nQ 24.171875 6.390625 31.78125 6.390625 \r\nQ 39.453125 6.390625 43.28125 13.890625 \r\nQ 47.125 21.390625 47.125 36.375 \r\nQ 47.125 51.421875 43.28125 58.90625 \r\nQ 39.453125 66.40625 31.78125 66.40625 \r\nz\r\nM 31.78125 74.21875 \r\nQ 44.046875 74.21875 50.515625 64.515625 \r\nQ 56.984375 54.828125 56.984375 36.375 \r\nQ 56.984375 17.96875 50.515625 8.265625 \r\nQ 44.046875 -1.421875 31.78125 -1.421875 \r\nQ 19.53125 -1.421875 13.0625 8.265625 \r\nQ 6.59375 17.96875 6.59375 36.375 \r\nQ 6.59375 54.828125 13.0625 64.515625 \r\nQ 19.53125 74.21875 31.78125 74.21875 \r\nz\r\n\" id=\"DejaVuSans-48\"/>\r\n       </defs>\r\n       <use xlink:href=\"#DejaVuSans-50\"/>\r\n       <use x=\"63.623047\" xlink:href=\"#DejaVuSans-48\"/>\r\n       <use x=\"127.246094\" xlink:href=\"#DejaVuSans-48\"/>\r\n       <use x=\"190.869141\" xlink:href=\"#DejaVuSans-48\"/>\r\n      </g>\r\n     </g>\r\n    </g>\r\n    <g id=\"ytick_2\">\r\n     <g id=\"line2d_2\">\r\n      <g>\r\n       <use style=\"stroke:#000000;stroke-width:0.8;\" x=\"48.238125\" xlink:href=\"#m66b30106e4\" y=\"74.51986\"/>\r\n      </g>\r\n     </g>\r\n     <g id=\"text_2\">\r\n      <!-- 4000 -->\r\n      <g transform=\"translate(20.878125 77.559235)scale(0.08 -0.08)\">\r\n       <defs>\r\n        <path d=\"M 37.796875 64.3125 \r\nL 12.890625 25.390625 \r\nL 37.796875 25.390625 \r\nz\r\nM 35.203125 72.90625 \r\nL 47.609375 72.90625 \r\nL 47.609375 25.390625 \r\nL 58.015625 25.390625 \r\nL 58.015625 17.1875 \r\nL 47.609375 17.1875 \r\nL 47.609375 0 \r\nL 37.796875 0 \r\nL 37.796875 17.1875 \r\nL 4.890625 17.1875 \r\nL 4.890625 26.703125 \r\nz\r\n\" id=\"DejaVuSans-52\"/>\r\n       </defs>\r\n       <use xlink:href=\"#DejaVuSans-52\"/>\r\n       <use x=\"63.623047\" xlink:href=\"#DejaVuSans-48\"/>\r\n       <use x=\"127.246094\" xlink:href=\"#DejaVuSans-48\"/>\r\n       <use x=\"190.869141\" xlink:href=\"#DejaVuSans-48\"/>\r\n      </g>\r\n     </g>\r\n    </g>\r\n    <g id=\"ytick_3\">\r\n     <g id=\"line2d_3\">\r\n      <g>\r\n       <use style=\"stroke:#000000;stroke-width:0.8;\" x=\"48.238125\" xlink:href=\"#m66b30106e4\" y=\"44.292781\"/>\r\n      </g>\r\n     </g>\r\n     <g id=\"text_3\">\r\n      <!-- 6000 -->\r\n      <g transform=\"translate(20.878125 47.332156)scale(0.08 -0.08)\">\r\n       <defs>\r\n        <path d=\"M 33.015625 40.375 \r\nQ 26.375 40.375 22.484375 35.828125 \r\nQ 18.609375 31.296875 18.609375 23.390625 \r\nQ 18.609375 15.53125 22.484375 10.953125 \r\nQ 26.375 6.390625 33.015625 6.390625 \r\nQ 39.65625 6.390625 43.53125 10.953125 \r\nQ 47.40625 15.53125 47.40625 23.390625 \r\nQ 47.40625 31.296875 43.53125 35.828125 \r\nQ 39.65625 40.375 33.015625 40.375 \r\nz\r\nM 52.59375 71.296875 \r\nL 52.59375 62.3125 \r\nQ 48.875 64.0625 45.09375 64.984375 \r\nQ 41.3125 65.921875 37.59375 65.921875 \r\nQ 27.828125 65.921875 22.671875 59.328125 \r\nQ 17.53125 52.734375 16.796875 39.40625 \r\nQ 19.671875 43.65625 24.015625 45.921875 \r\nQ 28.375 48.1875 33.59375 48.1875 \r\nQ 44.578125 48.1875 50.953125 41.515625 \r\nQ 57.328125 34.859375 57.328125 23.390625 \r\nQ 57.328125 12.15625 50.6875 5.359375 \r\nQ 44.046875 -1.421875 33.015625 -1.421875 \r\nQ 20.359375 -1.421875 13.671875 8.265625 \r\nQ 6.984375 17.96875 6.984375 36.375 \r\nQ 6.984375 53.65625 15.1875 63.9375 \r\nQ 23.390625 74.21875 37.203125 74.21875 \r\nQ 40.921875 74.21875 44.703125 73.484375 \r\nQ 48.484375 72.75 52.59375 71.296875 \r\nz\r\n\" id=\"DejaVuSans-54\"/>\r\n       </defs>\r\n       <use xlink:href=\"#DejaVuSans-54\"/>\r\n       <use x=\"63.623047\" xlink:href=\"#DejaVuSans-48\"/>\r\n       <use x=\"127.246094\" xlink:href=\"#DejaVuSans-48\"/>\r\n       <use x=\"190.869141\" xlink:href=\"#DejaVuSans-48\"/>\r\n      </g>\r\n     </g>\r\n    </g>\r\n    <g id=\"ytick_4\">\r\n     <g id=\"line2d_4\">\r\n      <g>\r\n       <use style=\"stroke:#000000;stroke-width:0.8;\" x=\"48.238125\" xlink:href=\"#m66b30106e4\" y=\"14.065703\"/>\r\n      </g>\r\n     </g>\r\n     <g id=\"text_4\">\r\n      <!-- 8000 -->\r\n      <g transform=\"translate(20.878125 17.105078)scale(0.08 -0.08)\">\r\n       <defs>\r\n        <path d=\"M 31.78125 34.625 \r\nQ 24.75 34.625 20.71875 30.859375 \r\nQ 16.703125 27.09375 16.703125 20.515625 \r\nQ 16.703125 13.921875 20.71875 10.15625 \r\nQ 24.75 6.390625 31.78125 6.390625 \r\nQ 38.8125 6.390625 42.859375 10.171875 \r\nQ 46.921875 13.96875 46.921875 20.515625 \r\nQ 46.921875 27.09375 42.890625 30.859375 \r\nQ 38.875 34.625 31.78125 34.625 \r\nz\r\nM 21.921875 38.8125 \r\nQ 15.578125 40.375 12.03125 44.71875 \r\nQ 8.5 49.078125 8.5 55.328125 \r\nQ 8.5 64.0625 14.71875 69.140625 \r\nQ 20.953125 74.21875 31.78125 74.21875 \r\nQ 42.671875 74.21875 48.875 69.140625 \r\nQ 55.078125 64.0625 55.078125 55.328125 \r\nQ 55.078125 49.078125 51.53125 44.71875 \r\nQ 48 40.375 41.703125 38.8125 \r\nQ 48.828125 37.15625 52.796875 32.3125 \r\nQ 56.78125 27.484375 56.78125 20.515625 \r\nQ 56.78125 9.90625 50.3125 4.234375 \r\nQ 43.84375 -1.421875 31.78125 -1.421875 \r\nQ 19.734375 -1.421875 13.25 4.234375 \r\nQ 6.78125 9.90625 6.78125 20.515625 \r\nQ 6.78125 27.484375 10.78125 32.3125 \r\nQ 14.796875 37.15625 21.921875 38.8125 \r\nz\r\nM 18.3125 54.390625 \r\nQ 18.3125 48.734375 21.84375 45.5625 \r\nQ 25.390625 42.390625 31.78125 42.390625 \r\nQ 38.140625 42.390625 41.71875 45.5625 \r\nQ 45.3125 48.734375 45.3125 54.390625 \r\nQ 45.3125 60.0625 41.71875 63.234375 \r\nQ 38.140625 66.40625 31.78125 66.40625 \r\nQ 25.390625 66.40625 21.84375 63.234375 \r\nQ 18.3125 60.0625 18.3125 54.390625 \r\nz\r\n\" id=\"DejaVuSans-56\"/>\r\n       </defs>\r\n       <use xlink:href=\"#DejaVuSans-56\"/>\r\n       <use x=\"63.623047\" xlink:href=\"#DejaVuSans-48\"/>\r\n       <use x=\"127.246094\" xlink:href=\"#DejaVuSans-48\"/>\r\n       <use x=\"190.869141\" xlink:href=\"#DejaVuSans-48\"/>\r\n      </g>\r\n     </g>\r\n    </g>\r\n    <g id=\"text_5\">\r\n     <!-- steps -->\r\n     <g transform=\"translate(14.798438 74.980312)rotate(-90)scale(0.1 -0.1)\">\r\n      <defs>\r\n       <path d=\"M 44.28125 53.078125 \r\nL 44.28125 44.578125 \r\nQ 40.484375 46.53125 36.375 47.5 \r\nQ 32.28125 48.484375 27.875 48.484375 \r\nQ 21.1875 48.484375 17.84375 46.4375 \r\nQ 14.5 44.390625 14.5 40.28125 \r\nQ 14.5 37.15625 16.890625 35.375 \r\nQ 19.28125 33.59375 26.515625 31.984375 \r\nL 29.59375 31.296875 \r\nQ 39.15625 29.25 43.1875 25.515625 \r\nQ 47.21875 21.78125 47.21875 15.09375 \r\nQ 47.21875 7.46875 41.1875 3.015625 \r\nQ 35.15625 -1.421875 24.609375 -1.421875 \r\nQ 20.21875 -1.421875 15.453125 -0.5625 \r\nQ 10.6875 0.296875 5.421875 2 \r\nL 5.421875 11.28125 \r\nQ 10.40625 8.6875 15.234375 7.390625 \r\nQ 20.0625 6.109375 24.8125 6.109375 \r\nQ 31.15625 6.109375 34.5625 8.28125 \r\nQ 37.984375 10.453125 37.984375 14.40625 \r\nQ 37.984375 18.0625 35.515625 20.015625 \r\nQ 33.0625 21.96875 24.703125 23.78125 \r\nL 21.578125 24.515625 \r\nQ 13.234375 26.265625 9.515625 29.90625 \r\nQ 5.8125 33.546875 5.8125 39.890625 \r\nQ 5.8125 47.609375 11.28125 51.796875 \r\nQ 16.75 56 26.8125 56 \r\nQ 31.78125 56 36.171875 55.265625 \r\nQ 40.578125 54.546875 44.28125 53.078125 \r\nz\r\n\" id=\"DejaVuSans-115\"/>\r\n       <path d=\"M 18.3125 70.21875 \r\nL 18.3125 54.6875 \r\nL 36.8125 54.6875 \r\nL 36.8125 47.703125 \r\nL 18.3125 47.703125 \r\nL 18.3125 18.015625 \r\nQ 18.3125 11.328125 20.140625 9.421875 \r\nQ 21.96875 7.515625 27.59375 7.515625 \r\nL 36.8125 7.515625 \r\nL 36.8125 0 \r\nL 27.59375 0 \r\nQ 17.1875 0 13.234375 3.875 \r\nQ 9.28125 7.765625 9.28125 18.015625 \r\nL 9.28125 47.703125 \r\nL 2.6875 47.703125 \r\nL 2.6875 54.6875 \r\nL 9.28125 54.6875 \r\nL 9.28125 70.21875 \r\nz\r\n\" id=\"DejaVuSans-116\"/>\r\n       <path d=\"M 56.203125 29.59375 \r\nL 56.203125 25.203125 \r\nL 14.890625 25.203125 \r\nQ 15.484375 15.921875 20.484375 11.0625 \r\nQ 25.484375 6.203125 34.421875 6.203125 \r\nQ 39.59375 6.203125 44.453125 7.46875 \r\nQ 49.3125 8.734375 54.109375 11.28125 \r\nL 54.109375 2.78125 \r\nQ 49.265625 0.734375 44.1875 -0.34375 \r\nQ 39.109375 -1.421875 33.890625 -1.421875 \r\nQ 20.796875 -1.421875 13.15625 6.1875 \r\nQ 5.515625 13.8125 5.515625 26.8125 \r\nQ 5.515625 40.234375 12.765625 48.109375 \r\nQ 20.015625 56 32.328125 56 \r\nQ 43.359375 56 49.78125 48.890625 \r\nQ 56.203125 41.796875 56.203125 29.59375 \r\nz\r\nM 47.21875 32.234375 \r\nQ 47.125 39.59375 43.09375 43.984375 \r\nQ 39.0625 48.390625 32.421875 48.390625 \r\nQ 24.90625 48.390625 20.390625 44.140625 \r\nQ 15.875 39.890625 15.1875 32.171875 \r\nz\r\n\" id=\"DejaVuSans-101\"/>\r\n       <path d=\"M 18.109375 8.203125 \r\nL 18.109375 -20.796875 \r\nL 9.078125 -20.796875 \r\nL 9.078125 54.6875 \r\nL 18.109375 54.6875 \r\nL 18.109375 46.390625 \r\nQ 20.953125 51.265625 25.265625 53.625 \r\nQ 29.59375 56 35.59375 56 \r\nQ 45.5625 56 51.78125 48.09375 \r\nQ 58.015625 40.1875 58.015625 27.296875 \r\nQ 58.015625 14.40625 51.78125 6.484375 \r\nQ 45.5625 -1.421875 35.59375 -1.421875 \r\nQ 29.59375 -1.421875 25.265625 0.953125 \r\nQ 20.953125 3.328125 18.109375 8.203125 \r\nz\r\nM 48.6875 27.296875 \r\nQ 48.6875 37.203125 44.609375 42.84375 \r\nQ 40.53125 48.484375 33.40625 48.484375 \r\nQ 26.265625 48.484375 22.1875 42.84375 \r\nQ 18.109375 37.203125 18.109375 27.296875 \r\nQ 18.109375 17.390625 22.1875 11.75 \r\nQ 26.265625 6.109375 33.40625 6.109375 \r\nQ 40.53125 6.109375 44.609375 11.75 \r\nQ 48.6875 17.390625 48.6875 27.296875 \r\nz\r\n\" id=\"DejaVuSans-112\"/>\r\n      </defs>\r\n      <use xlink:href=\"#DejaVuSans-115\"/>\r\n      <use x=\"52.099609\" xlink:href=\"#DejaVuSans-116\"/>\r\n      <use x=\"91.308594\" xlink:href=\"#DejaVuSans-101\"/>\r\n      <use x=\"152.832031\" xlink:href=\"#DejaVuSans-112\"/>\r\n      <use x=\"216.308594\" xlink:href=\"#DejaVuSans-115\"/>\r\n     </g>\r\n    </g>\r\n   </g>\r\n   <g id=\"patch_13\">\r\n    <path d=\"M 48.238125 115.92 \r\nL 48.238125 7.2 \r\n\" style=\"fill:none;stroke:#000000;stroke-linecap:square;stroke-linejoin:miter;stroke-width:0.8;\"/>\r\n   </g>\r\n   <g id=\"patch_14\">\r\n    <path d=\"M 215.638125 115.92 \r\nL 215.638125 7.2 \r\n\" style=\"fill:none;stroke:#000000;stroke-linecap:square;stroke-linejoin:miter;stroke-width:0.8;\"/>\r\n   </g>\r\n   <g id=\"patch_15\">\r\n    <path d=\"M 48.238125 115.92 \r\nL 215.638125 115.92 \r\n\" style=\"fill:none;stroke:#000000;stroke-linecap:square;stroke-linejoin:miter;stroke-width:0.8;\"/>\r\n   </g>\r\n   <g id=\"patch_16\">\r\n    <path d=\"M 48.238125 7.2 \r\nL 215.638125 7.2 \r\n\" style=\"fill:none;stroke:#000000;stroke-linecap:square;stroke-linejoin:miter;stroke-width:0.8;\"/>\r\n   </g>\r\n  </g>\r\n  <g id=\"axes_2\">\r\n   <g id=\"patch_17\">\r\n    <path d=\"M 215.638125 115.92 \r\nL 383.038125 115.92 \r\nL 383.038125 7.2 \r\nL 215.638125 7.2 \r\nz\r\n\" style=\"fill:#ffffff;\"/>\r\n   </g>\r\n   <g id=\"PathCollection_1\">\r\n    <defs>\r\n     <path d=\"M 0 1.5 \r\nC 0.397805 1.5 0.77937 1.341951 1.06066 1.06066 \r\nC 1.341951 0.77937 1.5 0.397805 1.5 -0 \r\nC 1.5 -0.397805 1.341951 -0.77937 1.06066 -1.06066 \r\nC 0.77937 -1.341951 0.397805 -1.5 0 -1.5 \r\nC -0.397805 -1.5 -0.77937 -1.341951 -1.06066 -1.06066 \r\nC -1.341951 -0.77937 -1.5 -0.397805 -1.5 0 \r\nC -1.5 0.397805 -1.341951 0.77937 -1.06066 1.06066 \r\nC -0.77937 1.341951 -0.397805 1.5 0 1.5 \r\nz\r\n\" id=\"C0_0_205c0f3b3a\"/>\r\n    </defs>\r\n    <g clip-path=\"url(#p9e38bfce09)\">\r\n     <use style=\"fill:#1f77b4;fill-opacity:0.5;\" x=\"300.552048\" xlink:href=\"#C0_0_205c0f3b3a\" y=\"113.331429\"/>\r\n    </g>\r\n    <g clip-path=\"url(#p9e38bfce09)\">\r\n     <use style=\"fill:#1f77b4;fill-opacity:0.5;\" x=\"219.623839\" xlink:href=\"#C0_0_205c0f3b3a\" y=\"99.744357\"/>\r\n    </g>\r\n    <g clip-path=\"url(#p9e38bfce09)\">\r\n     <use style=\"fill:#1f77b4;fill-opacity:0.5;\" x=\"273.882525\" xlink:href=\"#C0_0_205c0f3b3a\" y=\"72.769437\"/>\r\n    </g>\r\n    <g clip-path=\"url(#p9e38bfce09)\">\r\n     <use style=\"fill:#1f77b4;fill-opacity:0.5;\" x=\"268.658977\" xlink:href=\"#C0_0_205c0f3b3a\" y=\"9.788571\"/>\r\n    </g>\r\n    <g clip-path=\"url(#p9e38bfce09)\">\r\n     <use style=\"fill:#1f77b4;fill-opacity:0.5;\" x=\"273.882525\" xlink:href=\"#C0_0_205c0f3b3a\" y=\"72.769437\"/>\r\n    </g>\r\n    <g clip-path=\"url(#p9e38bfce09)\">\r\n     <use style=\"fill:#1f77b4;fill-opacity:0.5;\" x=\"310.741645\" xlink:href=\"#C0_0_205c0f3b3a\" y=\"69.502165\"/>\r\n    </g>\r\n    <g clip-path=\"url(#p9e38bfce09)\">\r\n     <use style=\"fill:#1f77b4;fill-opacity:0.5;\" x=\"229.37201\" xlink:href=\"#C0_0_205c0f3b3a\" y=\"86.429329\"/>\r\n    </g>\r\n    <g clip-path=\"url(#p9e38bfce09)\">\r\n     <use style=\"fill:#1f77b4;fill-opacity:0.5;\" x=\"379.052411\" xlink:href=\"#C0_0_205c0f3b3a\" y=\"36.08613\"/>\r\n    </g>\r\n    <g clip-path=\"url(#p9e38bfce09)\">\r\n     <use style=\"fill:#1f77b4;fill-opacity:0.5;\" x=\"239.966248\" xlink:href=\"#C0_0_205c0f3b3a\" y=\"99.532767\"/>\r\n    </g>\r\n    <g clip-path=\"url(#p9e38bfce09)\">\r\n     <use style=\"fill:#1f77b4;fill-opacity:0.5;\" x=\"334.100469\" xlink:href=\"#C0_0_205c0f3b3a\" y=\"52.862158\"/>\r\n    </g>\r\n    <g clip-path=\"url(#p9e38bfce09)\">\r\n     <use style=\"fill:#1f77b4;fill-opacity:0.5;\" x=\"239.598393\" xlink:href=\"#C0_0_205c0f3b3a\" y=\"94.560413\"/>\r\n    </g>\r\n    <g clip-path=\"url(#p9e38bfce09)\">\r\n     <use style=\"fill:#1f77b4;fill-opacity:0.5;\" x=\"247.360144\" xlink:href=\"#C0_0_205c0f3b3a\" y=\"78.071542\"/>\r\n    </g>\r\n    <g clip-path=\"url(#p9e38bfce09)\">\r\n     <use style=\"fill:#1f77b4;fill-opacity:0.5;\" x=\"243.681589\" xlink:href=\"#C0_0_205c0f3b3a\" y=\"60.55495\"/>\r\n    </g>\r\n   </g>\r\n   <g id=\"patch_18\">\r\n    <path d=\"M 215.638125 115.92 \r\nL 215.638125 7.2 \r\n\" style=\"fill:none;stroke:#000000;stroke-linecap:square;stroke-linejoin:miter;stroke-width:0.8;\"/>\r\n   </g>\r\n   <g id=\"patch_19\">\r\n    <path d=\"M 383.038125 115.92 \r\nL 383.038125 7.2 \r\n\" style=\"fill:none;stroke:#000000;stroke-linecap:square;stroke-linejoin:miter;stroke-width:0.8;\"/>\r\n   </g>\r\n   <g id=\"patch_20\">\r\n    <path d=\"M 215.638125 115.92 \r\nL 383.038125 115.92 \r\n\" style=\"fill:none;stroke:#000000;stroke-linecap:square;stroke-linejoin:miter;stroke-width:0.8;\"/>\r\n   </g>\r\n   <g id=\"patch_21\">\r\n    <path d=\"M 215.638125 7.2 \r\nL 383.038125 7.2 \r\n\" style=\"fill:none;stroke:#000000;stroke-linecap:square;stroke-linejoin:miter;stroke-width:0.8;\"/>\r\n   </g>\r\n  </g>\r\n  <g id=\"axes_3\">\r\n   <g id=\"patch_22\">\r\n    <path d=\"M 48.238125 224.64 \r\nL 215.638125 224.64 \r\nL 215.638125 115.92 \r\nL 48.238125 115.92 \r\nz\r\n\" style=\"fill:#ffffff;\"/>\r\n   </g>\r\n   <g id=\"PathCollection_2\">\r\n    <defs>\r\n     <path d=\"M 0 1.5 \r\nC 0.397805 1.5 0.77937 1.341951 1.06066 1.06066 \r\nC 1.341951 0.77937 1.5 0.397805 1.5 -0 \r\nC 1.5 -0.397805 1.341951 -0.77937 1.06066 -1.06066 \r\nC 0.77937 -1.341951 0.397805 -1.5 0 -1.5 \r\nC -0.397805 -1.5 -0.77937 -1.341951 -1.06066 -1.06066 \r\nC -1.341951 -0.77937 -1.5 -0.397805 -1.5 0 \r\nC -1.5 0.397805 -1.341951 0.77937 -1.06066 1.06066 \r\nC -0.77937 1.341951 -0.397805 1.5 0 1.5 \r\nz\r\n\" id=\"C1_0_77482b7108\"/>\r\n    </defs>\r\n    <g clip-path=\"url(#p5b6e944a87)\">\r\n     <use style=\"fill:#1f77b4;fill-opacity:0.5;\" x=\"52.223839\" xlink:href=\"#C1_0_77482b7108\" y=\"169.491603\"/>\r\n    </g>\r\n    <g clip-path=\"url(#p5b6e944a87)\">\r\n     <use style=\"fill:#1f77b4;fill-opacity:0.5;\" x=\"73.144331\" xlink:href=\"#C1_0_77482b7108\" y=\"222.051429\"/>\r\n    </g>\r\n    <g clip-path=\"url(#p5b6e944a87)\">\r\n     <use style=\"fill:#1f77b4;fill-opacity:0.5;\" x=\"114.678561\" xlink:href=\"#C1_0_77482b7108\" y=\"186.812454\"/>\r\n    </g>\r\n    <g clip-path=\"url(#p5b6e944a87)\">\r\n     <use style=\"fill:#1f77b4;fill-opacity:0.5;\" x=\"211.652411\" xlink:href=\"#C1_0_77482b7108\" y=\"190.204952\"/>\r\n    </g>\r\n    <g clip-path=\"url(#p5b6e944a87)\">\r\n     <use style=\"fill:#1f77b4;fill-opacity:0.5;\" x=\"114.678561\" xlink:href=\"#C1_0_77482b7108\" y=\"186.812454\"/>\r\n    </g>\r\n    <g clip-path=\"url(#p5b6e944a87)\">\r\n     <use style=\"fill:#1f77b4;fill-opacity:0.5;\" x=\"119.709295\" xlink:href=\"#C1_0_77482b7108\" y=\"162.873843\"/>\r\n    </g>\r\n    <g clip-path=\"url(#p5b6e944a87)\">\r\n     <use style=\"fill:#1f77b4;fill-opacity:0.5;\" x=\"93.645947\" xlink:href=\"#C1_0_77482b7108\" y=\"215.720359\"/>\r\n    </g>\r\n    <g clip-path=\"url(#p5b6e944a87)\">\r\n     <use style=\"fill:#1f77b4;fill-opacity:0.5;\" x=\"171.161137\" xlink:href=\"#C1_0_77482b7108\" y=\"118.508571\"/>\r\n    </g>\r\n    <g clip-path=\"url(#p5b6e944a87)\">\r\n     <use style=\"fill:#1f77b4;fill-opacity:0.5;\" x=\"73.470122\" xlink:href=\"#C1_0_77482b7108\" y=\"208.8398\"/>\r\n    </g>\r\n    <g clip-path=\"url(#p5b6e944a87)\">\r\n     <use style=\"fill:#1f77b4;fill-opacity:0.5;\" x=\"145.330497\" xlink:href=\"#C1_0_77482b7108\" y=\"147.703166\"/>\r\n    </g>\r\n    <g clip-path=\"url(#p5b6e944a87)\">\r\n     <use style=\"fill:#1f77b4;fill-opacity:0.5;\" x=\"81.126231\" xlink:href=\"#C1_0_77482b7108\" y=\"209.078708\"/>\r\n    </g>\r\n    <g clip-path=\"url(#p5b6e944a87)\">\r\n     <use style=\"fill:#1f77b4;fill-opacity:0.5;\" x=\"106.514725\" xlink:href=\"#C1_0_77482b7108\" y=\"204.037743\"/>\r\n    </g>\r\n    <g clip-path=\"url(#p5b6e944a87)\">\r\n     <use style=\"fill:#1f77b4;fill-opacity:0.5;\" x=\"133.485636\" xlink:href=\"#C1_0_77482b7108\" y=\"206.426826\"/>\r\n    </g>\r\n   </g>\r\n   <g id=\"matplotlib.axis_2\">\r\n    <g id=\"xtick_1\">\r\n     <g id=\"line2d_5\">\r\n      <defs>\r\n       <path d=\"M 0 0 \r\nL 0 3.5 \r\n\" id=\"m10debbc516\" style=\"stroke:#000000;stroke-width:0.8;\"/>\r\n      </defs>\r\n      <g>\r\n       <use style=\"stroke:#000000;stroke-width:0.8;\" x=\"65.44168\" xlink:href=\"#m10debbc516\" y=\"224.64\"/>\r\n      </g>\r\n     </g>\r\n     <g id=\"text_6\">\r\n      <!-- 2000 -->\r\n      <g transform=\"translate(67.64918 252)rotate(-90)scale(0.08 -0.08)\">\r\n       <use xlink:href=\"#DejaVuSans-50\"/>\r\n       <use x=\"63.623047\" xlink:href=\"#DejaVuSans-48\"/>\r\n       <use x=\"127.246094\" xlink:href=\"#DejaVuSans-48\"/>\r\n       <use x=\"190.869141\" xlink:href=\"#DejaVuSans-48\"/>\r\n      </g>\r\n     </g>\r\n    </g>\r\n    <g id=\"xtick_2\">\r\n     <g id=\"line2d_6\">\r\n      <g>\r\n       <use style=\"stroke:#000000;stroke-width:0.8;\" x=\"111.983374\" xlink:href=\"#m10debbc516\" y=\"224.64\"/>\r\n      </g>\r\n     </g>\r\n     <g id=\"text_7\">\r\n      <!-- 4000 -->\r\n      <g transform=\"translate(114.190874 252)rotate(-90)scale(0.08 -0.08)\">\r\n       <use xlink:href=\"#DejaVuSans-52\"/>\r\n       <use x=\"63.623047\" xlink:href=\"#DejaVuSans-48\"/>\r\n       <use x=\"127.246094\" xlink:href=\"#DejaVuSans-48\"/>\r\n       <use x=\"190.869141\" xlink:href=\"#DejaVuSans-48\"/>\r\n      </g>\r\n     </g>\r\n    </g>\r\n    <g id=\"xtick_3\">\r\n     <g id=\"line2d_7\">\r\n      <g>\r\n       <use style=\"stroke:#000000;stroke-width:0.8;\" x=\"158.525067\" xlink:href=\"#m10debbc516\" y=\"224.64\"/>\r\n      </g>\r\n     </g>\r\n     <g id=\"text_8\">\r\n      <!-- 6000 -->\r\n      <g transform=\"translate(160.732567 252)rotate(-90)scale(0.08 -0.08)\">\r\n       <use xlink:href=\"#DejaVuSans-54\"/>\r\n       <use x=\"63.623047\" xlink:href=\"#DejaVuSans-48\"/>\r\n       <use x=\"127.246094\" xlink:href=\"#DejaVuSans-48\"/>\r\n       <use x=\"190.869141\" xlink:href=\"#DejaVuSans-48\"/>\r\n      </g>\r\n     </g>\r\n    </g>\r\n    <g id=\"xtick_4\">\r\n     <g id=\"line2d_8\">\r\n      <g>\r\n       <use style=\"stroke:#000000;stroke-width:0.8;\" x=\"205.066761\" xlink:href=\"#m10debbc516\" y=\"224.64\"/>\r\n      </g>\r\n     </g>\r\n     <g id=\"text_9\">\r\n      <!-- 8000 -->\r\n      <g transform=\"translate(207.274261 252)rotate(-90)scale(0.08 -0.08)\">\r\n       <use xlink:href=\"#DejaVuSans-56\"/>\r\n       <use x=\"63.623047\" xlink:href=\"#DejaVuSans-48\"/>\r\n       <use x=\"127.246094\" xlink:href=\"#DejaVuSans-48\"/>\r\n       <use x=\"190.869141\" xlink:href=\"#DejaVuSans-48\"/>\r\n      </g>\r\n     </g>\r\n    </g>\r\n    <g id=\"text_10\">\r\n     <!-- steps -->\r\n     <g transform=\"translate(118.517812 263.598437)scale(0.1 -0.1)\">\r\n      <use xlink:href=\"#DejaVuSans-115\"/>\r\n      <use x=\"52.099609\" xlink:href=\"#DejaVuSans-116\"/>\r\n      <use x=\"91.308594\" xlink:href=\"#DejaVuSans-101\"/>\r\n      <use x=\"152.832031\" xlink:href=\"#DejaVuSans-112\"/>\r\n      <use x=\"216.308594\" xlink:href=\"#DejaVuSans-115\"/>\r\n     </g>\r\n    </g>\r\n   </g>\r\n   <g id=\"matplotlib.axis_3\">\r\n    <g id=\"ytick_5\">\r\n     <g id=\"line2d_9\">\r\n      <g>\r\n       <use style=\"stroke:#000000;stroke-width:0.8;\" x=\"48.238125\" xlink:href=\"#m66b30106e4\" y=\"224.440512\"/>\r\n      </g>\r\n     </g>\r\n     <g id=\"text_11\">\r\n      <!-- 2000 -->\r\n      <g transform=\"translate(20.878125 227.479887)scale(0.08 -0.08)\">\r\n       <use xlink:href=\"#DejaVuSans-50\"/>\r\n       <use x=\"63.623047\" xlink:href=\"#DejaVuSans-48\"/>\r\n       <use x=\"127.246094\" xlink:href=\"#DejaVuSans-48\"/>\r\n       <use x=\"190.869141\" xlink:href=\"#DejaVuSans-48\"/>\r\n      </g>\r\n     </g>\r\n    </g>\r\n    <g id=\"ytick_6\">\r\n     <g id=\"line2d_10\">\r\n      <g>\r\n       <use style=\"stroke:#000000;stroke-width:0.8;\" x=\"48.238125\" xlink:href=\"#m66b30106e4\" y=\"200.549682\"/>\r\n      </g>\r\n     </g>\r\n     <g id=\"text_12\">\r\n      <!-- 3000 -->\r\n      <g transform=\"translate(20.878125 203.589057)scale(0.08 -0.08)\">\r\n       <defs>\r\n        <path d=\"M 40.578125 39.3125 \r\nQ 47.65625 37.796875 51.625 33 \r\nQ 55.609375 28.21875 55.609375 21.1875 \r\nQ 55.609375 10.40625 48.1875 4.484375 \r\nQ 40.765625 -1.421875 27.09375 -1.421875 \r\nQ 22.515625 -1.421875 17.65625 -0.515625 \r\nQ 12.796875 0.390625 7.625 2.203125 \r\nL 7.625 11.71875 \r\nQ 11.71875 9.328125 16.59375 8.109375 \r\nQ 21.484375 6.890625 26.8125 6.890625 \r\nQ 36.078125 6.890625 40.9375 10.546875 \r\nQ 45.796875 14.203125 45.796875 21.1875 \r\nQ 45.796875 27.640625 41.28125 31.265625 \r\nQ 36.765625 34.90625 28.71875 34.90625 \r\nL 20.21875 34.90625 \r\nL 20.21875 43.015625 \r\nL 29.109375 43.015625 \r\nQ 36.375 43.015625 40.234375 45.921875 \r\nQ 44.09375 48.828125 44.09375 54.296875 \r\nQ 44.09375 59.90625 40.109375 62.90625 \r\nQ 36.140625 65.921875 28.71875 65.921875 \r\nQ 24.65625 65.921875 20.015625 65.03125 \r\nQ 15.375 64.15625 9.8125 62.3125 \r\nL 9.8125 71.09375 \r\nQ 15.4375 72.65625 20.34375 73.4375 \r\nQ 25.25 74.21875 29.59375 74.21875 \r\nQ 40.828125 74.21875 47.359375 69.109375 \r\nQ 53.90625 64.015625 53.90625 55.328125 \r\nQ 53.90625 49.265625 50.4375 45.09375 \r\nQ 46.96875 40.921875 40.578125 39.3125 \r\nz\r\n\" id=\"DejaVuSans-51\"/>\r\n       </defs>\r\n       <use xlink:href=\"#DejaVuSans-51\"/>\r\n       <use x=\"63.623047\" xlink:href=\"#DejaVuSans-48\"/>\r\n       <use x=\"127.246094\" xlink:href=\"#DejaVuSans-48\"/>\r\n       <use x=\"190.869141\" xlink:href=\"#DejaVuSans-48\"/>\r\n      </g>\r\n     </g>\r\n    </g>\r\n    <g id=\"ytick_7\">\r\n     <g id=\"line2d_11\">\r\n      <g>\r\n       <use style=\"stroke:#000000;stroke-width:0.8;\" x=\"48.238125\" xlink:href=\"#m66b30106e4\" y=\"176.658852\"/>\r\n      </g>\r\n     </g>\r\n     <g id=\"text_13\">\r\n      <!-- 4000 -->\r\n      <g transform=\"translate(20.878125 179.698227)scale(0.08 -0.08)\">\r\n       <use xlink:href=\"#DejaVuSans-52\"/>\r\n       <use x=\"63.623047\" xlink:href=\"#DejaVuSans-48\"/>\r\n       <use x=\"127.246094\" xlink:href=\"#DejaVuSans-48\"/>\r\n       <use x=\"190.869141\" xlink:href=\"#DejaVuSans-48\"/>\r\n      </g>\r\n     </g>\r\n    </g>\r\n    <g id=\"ytick_8\">\r\n     <g id=\"line2d_12\">\r\n      <g>\r\n       <use style=\"stroke:#000000;stroke-width:0.8;\" x=\"48.238125\" xlink:href=\"#m66b30106e4\" y=\"152.768022\"/>\r\n      </g>\r\n     </g>\r\n     <g id=\"text_14\">\r\n      <!-- 5000 -->\r\n      <g transform=\"translate(20.878125 155.807397)scale(0.08 -0.08)\">\r\n       <defs>\r\n        <path d=\"M 10.796875 72.90625 \r\nL 49.515625 72.90625 \r\nL 49.515625 64.59375 \r\nL 19.828125 64.59375 \r\nL 19.828125 46.734375 \r\nQ 21.96875 47.46875 24.109375 47.828125 \r\nQ 26.265625 48.1875 28.421875 48.1875 \r\nQ 40.625 48.1875 47.75 41.5 \r\nQ 54.890625 34.8125 54.890625 23.390625 \r\nQ 54.890625 11.625 47.5625 5.09375 \r\nQ 40.234375 -1.421875 26.90625 -1.421875 \r\nQ 22.3125 -1.421875 17.546875 -0.640625 \r\nQ 12.796875 0.140625 7.71875 1.703125 \r\nL 7.71875 11.625 \r\nQ 12.109375 9.234375 16.796875 8.0625 \r\nQ 21.484375 6.890625 26.703125 6.890625 \r\nQ 35.15625 6.890625 40.078125 11.328125 \r\nQ 45.015625 15.765625 45.015625 23.390625 \r\nQ 45.015625 31 40.078125 35.4375 \r\nQ 35.15625 39.890625 26.703125 39.890625 \r\nQ 22.75 39.890625 18.8125 39.015625 \r\nQ 14.890625 38.140625 10.796875 36.28125 \r\nz\r\n\" id=\"DejaVuSans-53\"/>\r\n       </defs>\r\n       <use xlink:href=\"#DejaVuSans-53\"/>\r\n       <use x=\"63.623047\" xlink:href=\"#DejaVuSans-48\"/>\r\n       <use x=\"127.246094\" xlink:href=\"#DejaVuSans-48\"/>\r\n       <use x=\"190.869141\" xlink:href=\"#DejaVuSans-48\"/>\r\n      </g>\r\n     </g>\r\n    </g>\r\n    <g id=\"ytick_9\">\r\n     <g id=\"line2d_13\">\r\n      <g>\r\n       <use style=\"stroke:#000000;stroke-width:0.8;\" x=\"48.238125\" xlink:href=\"#m66b30106e4\" y=\"128.877192\"/>\r\n      </g>\r\n     </g>\r\n     <g id=\"text_15\">\r\n      <!-- 6000 -->\r\n      <g transform=\"translate(20.878125 131.916567)scale(0.08 -0.08)\">\r\n       <use xlink:href=\"#DejaVuSans-54\"/>\r\n       <use x=\"63.623047\" xlink:href=\"#DejaVuSans-48\"/>\r\n       <use x=\"127.246094\" xlink:href=\"#DejaVuSans-48\"/>\r\n       <use x=\"190.869141\" xlink:href=\"#DejaVuSans-48\"/>\r\n      </g>\r\n     </g>\r\n    </g>\r\n    <g id=\"text_16\">\r\n     <!-- cols -->\r\n     <g transform=\"translate(14.798438 180.082344)rotate(-90)scale(0.1 -0.1)\">\r\n      <defs>\r\n       <path d=\"M 48.78125 52.59375 \r\nL 48.78125 44.1875 \r\nQ 44.96875 46.296875 41.140625 47.34375 \r\nQ 37.3125 48.390625 33.40625 48.390625 \r\nQ 24.65625 48.390625 19.8125 42.84375 \r\nQ 14.984375 37.3125 14.984375 27.296875 \r\nQ 14.984375 17.28125 19.8125 11.734375 \r\nQ 24.65625 6.203125 33.40625 6.203125 \r\nQ 37.3125 6.203125 41.140625 7.25 \r\nQ 44.96875 8.296875 48.78125 10.40625 \r\nL 48.78125 2.09375 \r\nQ 45.015625 0.34375 40.984375 -0.53125 \r\nQ 36.96875 -1.421875 32.421875 -1.421875 \r\nQ 20.0625 -1.421875 12.78125 6.34375 \r\nQ 5.515625 14.109375 5.515625 27.296875 \r\nQ 5.515625 40.671875 12.859375 48.328125 \r\nQ 20.21875 56 33.015625 56 \r\nQ 37.15625 56 41.109375 55.140625 \r\nQ 45.0625 54.296875 48.78125 52.59375 \r\nz\r\n\" id=\"DejaVuSans-99\"/>\r\n       <path d=\"M 30.609375 48.390625 \r\nQ 23.390625 48.390625 19.1875 42.75 \r\nQ 14.984375 37.109375 14.984375 27.296875 \r\nQ 14.984375 17.484375 19.15625 11.84375 \r\nQ 23.34375 6.203125 30.609375 6.203125 \r\nQ 37.796875 6.203125 41.984375 11.859375 \r\nQ 46.1875 17.53125 46.1875 27.296875 \r\nQ 46.1875 37.015625 41.984375 42.703125 \r\nQ 37.796875 48.390625 30.609375 48.390625 \r\nz\r\nM 30.609375 56 \r\nQ 42.328125 56 49.015625 48.375 \r\nQ 55.71875 40.765625 55.71875 27.296875 \r\nQ 55.71875 13.875 49.015625 6.21875 \r\nQ 42.328125 -1.421875 30.609375 -1.421875 \r\nQ 18.84375 -1.421875 12.171875 6.21875 \r\nQ 5.515625 13.875 5.515625 27.296875 \r\nQ 5.515625 40.765625 12.171875 48.375 \r\nQ 18.84375 56 30.609375 56 \r\nz\r\n\" id=\"DejaVuSans-111\"/>\r\n       <path d=\"M 9.421875 75.984375 \r\nL 18.40625 75.984375 \r\nL 18.40625 0 \r\nL 9.421875 0 \r\nz\r\n\" id=\"DejaVuSans-108\"/>\r\n      </defs>\r\n      <use xlink:href=\"#DejaVuSans-99\"/>\r\n      <use x=\"54.980469\" xlink:href=\"#DejaVuSans-111\"/>\r\n      <use x=\"116.162109\" xlink:href=\"#DejaVuSans-108\"/>\r\n      <use x=\"143.945312\" xlink:href=\"#DejaVuSans-115\"/>\r\n     </g>\r\n    </g>\r\n   </g>\r\n   <g id=\"patch_23\">\r\n    <path d=\"M 48.238125 224.64 \r\nL 48.238125 115.92 \r\n\" style=\"fill:none;stroke:#000000;stroke-linecap:square;stroke-linejoin:miter;stroke-width:0.8;\"/>\r\n   </g>\r\n   <g id=\"patch_24\">\r\n    <path d=\"M 215.638125 224.64 \r\nL 215.638125 115.92 \r\n\" style=\"fill:none;stroke:#000000;stroke-linecap:square;stroke-linejoin:miter;stroke-width:0.8;\"/>\r\n   </g>\r\n   <g id=\"patch_25\">\r\n    <path d=\"M 48.238125 224.64 \r\nL 215.638125 224.64 \r\n\" style=\"fill:none;stroke:#000000;stroke-linecap:square;stroke-linejoin:miter;stroke-width:0.8;\"/>\r\n   </g>\r\n   <g id=\"patch_26\">\r\n    <path d=\"M 48.238125 115.92 \r\nL 215.638125 115.92 \r\n\" style=\"fill:none;stroke:#000000;stroke-linecap:square;stroke-linejoin:miter;stroke-width:0.8;\"/>\r\n   </g>\r\n  </g>\r\n  <g id=\"axes_4\">\r\n   <g id=\"patch_27\">\r\n    <path d=\"M 215.638125 224.64 \r\nL 383.038125 224.64 \r\nL 383.038125 115.92 \r\nL 215.638125 115.92 \r\nz\r\n\" style=\"fill:#ffffff;\"/>\r\n   </g>\r\n   <g id=\"patch_28\">\r\n    <path clip-path=\"url(#p7ffb79d1ac)\" d=\"M 219.623839 224.64 \r\nL 235.566696 224.64 \r\nL 235.566696 172.868571 \r\nL 219.623839 172.868571 \r\nz\r\n\" style=\"fill:#1f77b4;\"/>\r\n   </g>\r\n   <g id=\"patch_29\">\r\n    <path clip-path=\"url(#p7ffb79d1ac)\" d=\"M 235.566696 224.64 \r\nL 251.509554 224.64 \r\nL 251.509554 121.097143 \r\nL 235.566696 121.097143 \r\nz\r\n\" style=\"fill:#1f77b4;\"/>\r\n   </g>\r\n   <g id=\"patch_30\">\r\n    <path clip-path=\"url(#p7ffb79d1ac)\" d=\"M 251.509554 224.64 \r\nL 267.452411 224.64 \r\nL 267.452411 224.64 \r\nL 251.509554 224.64 \r\nz\r\n\" style=\"fill:#1f77b4;\"/>\r\n   </g>\r\n   <g id=\"patch_31\">\r\n    <path clip-path=\"url(#p7ffb79d1ac)\" d=\"M 267.452411 224.64 \r\nL 283.395268 224.64 \r\nL 283.395268 146.982857 \r\nL 267.452411 146.982857 \r\nz\r\n\" style=\"fill:#1f77b4;\"/>\r\n   </g>\r\n   <g id=\"patch_32\">\r\n    <path clip-path=\"url(#p7ffb79d1ac)\" d=\"M 283.395268 224.64 \r\nL 299.338125 224.64 \r\nL 299.338125 224.64 \r\nL 283.395268 224.64 \r\nz\r\n\" style=\"fill:#1f77b4;\"/>\r\n   </g>\r\n   <g id=\"patch_33\">\r\n    <path clip-path=\"url(#p7ffb79d1ac)\" d=\"M 299.338125 224.64 \r\nL 315.280982 224.64 \r\nL 315.280982 172.868571 \r\nL 299.338125 172.868571 \r\nz\r\n\" style=\"fill:#1f77b4;\"/>\r\n   </g>\r\n   <g id=\"patch_34\">\r\n    <path clip-path=\"url(#p7ffb79d1ac)\" d=\"M 315.280982 224.64 \r\nL 331.223839 224.64 \r\nL 331.223839 224.64 \r\nL 315.280982 224.64 \r\nz\r\n\" style=\"fill:#1f77b4;\"/>\r\n   </g>\r\n   <g id=\"patch_35\">\r\n    <path clip-path=\"url(#p7ffb79d1ac)\" d=\"M 331.223839 224.64 \r\nL 347.166696 224.64 \r\nL 347.166696 198.754286 \r\nL 331.223839 198.754286 \r\nz\r\n\" style=\"fill:#1f77b4;\"/>\r\n   </g>\r\n   <g id=\"patch_36\">\r\n    <path clip-path=\"url(#p7ffb79d1ac)\" d=\"M 347.166696 224.64 \r\nL 363.109554 224.64 \r\nL 363.109554 224.64 \r\nL 347.166696 224.64 \r\nz\r\n\" style=\"fill:#1f77b4;\"/>\r\n   </g>\r\n   <g id=\"patch_37\">\r\n    <path clip-path=\"url(#p7ffb79d1ac)\" d=\"M 363.109554 224.64 \r\nL 379.052411 224.64 \r\nL 379.052411 198.754286 \r\nL 363.109554 198.754286 \r\nz\r\n\" style=\"fill:#1f77b4;\"/>\r\n   </g>\r\n   <g id=\"matplotlib.axis_4\">\r\n    <g id=\"xtick_5\">\r\n     <g id=\"line2d_14\">\r\n      <g>\r\n       <use style=\"stroke:#000000;stroke-width:0.8;\" x=\"215.945284\" xlink:href=\"#m10debbc516\" y=\"224.64\"/>\r\n      </g>\r\n     </g>\r\n     <g id=\"text_17\">\r\n      <!-- 2000 -->\r\n      <g transform=\"translate(218.152784 252)rotate(-90)scale(0.08 -0.08)\">\r\n       <use xlink:href=\"#DejaVuSans-50\"/>\r\n       <use x=\"63.623047\" xlink:href=\"#DejaVuSans-48\"/>\r\n       <use x=\"127.246094\" xlink:href=\"#DejaVuSans-48\"/>\r\n       <use x=\"190.869141\" xlink:href=\"#DejaVuSans-48\"/>\r\n      </g>\r\n     </g>\r\n    </g>\r\n    <g id=\"xtick_6\">\r\n     <g id=\"line2d_15\">\r\n      <g>\r\n       <use style=\"stroke:#000000;stroke-width:0.8;\" x=\"252.730834\" xlink:href=\"#m10debbc516\" y=\"224.64\"/>\r\n      </g>\r\n     </g>\r\n     <g id=\"text_18\">\r\n      <!-- 3000 -->\r\n      <g transform=\"translate(254.938334 252)rotate(-90)scale(0.08 -0.08)\">\r\n       <use xlink:href=\"#DejaVuSans-51\"/>\r\n       <use x=\"63.623047\" xlink:href=\"#DejaVuSans-48\"/>\r\n       <use x=\"127.246094\" xlink:href=\"#DejaVuSans-48\"/>\r\n       <use x=\"190.869141\" xlink:href=\"#DejaVuSans-48\"/>\r\n      </g>\r\n     </g>\r\n    </g>\r\n    <g id=\"xtick_7\">\r\n     <g id=\"line2d_16\">\r\n      <g>\r\n       <use style=\"stroke:#000000;stroke-width:0.8;\" x=\"289.516383\" xlink:href=\"#m10debbc516\" y=\"224.64\"/>\r\n      </g>\r\n     </g>\r\n     <g id=\"text_19\">\r\n      <!-- 4000 -->\r\n      <g transform=\"translate(291.723883 252)rotate(-90)scale(0.08 -0.08)\">\r\n       <use xlink:href=\"#DejaVuSans-52\"/>\r\n       <use x=\"63.623047\" xlink:href=\"#DejaVuSans-48\"/>\r\n       <use x=\"127.246094\" xlink:href=\"#DejaVuSans-48\"/>\r\n       <use x=\"190.869141\" xlink:href=\"#DejaVuSans-48\"/>\r\n      </g>\r\n     </g>\r\n    </g>\r\n    <g id=\"xtick_8\">\r\n     <g id=\"line2d_17\">\r\n      <g>\r\n       <use style=\"stroke:#000000;stroke-width:0.8;\" x=\"326.301933\" xlink:href=\"#m10debbc516\" y=\"224.64\"/>\r\n      </g>\r\n     </g>\r\n     <g id=\"text_20\">\r\n      <!-- 5000 -->\r\n      <g transform=\"translate(328.509433 252)rotate(-90)scale(0.08 -0.08)\">\r\n       <use xlink:href=\"#DejaVuSans-53\"/>\r\n       <use x=\"63.623047\" xlink:href=\"#DejaVuSans-48\"/>\r\n       <use x=\"127.246094\" xlink:href=\"#DejaVuSans-48\"/>\r\n       <use x=\"190.869141\" xlink:href=\"#DejaVuSans-48\"/>\r\n      </g>\r\n     </g>\r\n    </g>\r\n    <g id=\"xtick_9\">\r\n     <g id=\"line2d_18\">\r\n      <g>\r\n       <use style=\"stroke:#000000;stroke-width:0.8;\" x=\"363.087482\" xlink:href=\"#m10debbc516\" y=\"224.64\"/>\r\n      </g>\r\n     </g>\r\n     <g id=\"text_21\">\r\n      <!-- 6000 -->\r\n      <g transform=\"translate(365.294982 252)rotate(-90)scale(0.08 -0.08)\">\r\n       <use xlink:href=\"#DejaVuSans-54\"/>\r\n       <use x=\"63.623047\" xlink:href=\"#DejaVuSans-48\"/>\r\n       <use x=\"127.246094\" xlink:href=\"#DejaVuSans-48\"/>\r\n       <use x=\"190.869141\" xlink:href=\"#DejaVuSans-48\"/>\r\n      </g>\r\n     </g>\r\n    </g>\r\n    <g id=\"text_22\">\r\n     <!-- cols -->\r\n     <g transform=\"translate(289.535781 263.598437)scale(0.1 -0.1)\">\r\n      <use xlink:href=\"#DejaVuSans-99\"/>\r\n      <use x=\"54.980469\" xlink:href=\"#DejaVuSans-111\"/>\r\n      <use x=\"116.162109\" xlink:href=\"#DejaVuSans-108\"/>\r\n      <use x=\"143.945312\" xlink:href=\"#DejaVuSans-115\"/>\r\n     </g>\r\n    </g>\r\n   </g>\r\n   <g id=\"patch_38\">\r\n    <path d=\"M 215.638125 224.64 \r\nL 215.638125 115.92 \r\n\" style=\"fill:none;stroke:#000000;stroke-linecap:square;stroke-linejoin:miter;stroke-width:0.8;\"/>\r\n   </g>\r\n   <g id=\"patch_39\">\r\n    <path d=\"M 383.038125 224.64 \r\nL 383.038125 115.92 \r\n\" style=\"fill:none;stroke:#000000;stroke-linecap:square;stroke-linejoin:miter;stroke-width:0.8;\"/>\r\n   </g>\r\n   <g id=\"patch_40\">\r\n    <path d=\"M 215.638125 224.64 \r\nL 383.038125 224.64 \r\n\" style=\"fill:none;stroke:#000000;stroke-linecap:square;stroke-linejoin:miter;stroke-width:0.8;\"/>\r\n   </g>\r\n   <g id=\"patch_41\">\r\n    <path d=\"M 215.638125 115.92 \r\nL 383.038125 115.92 \r\n\" style=\"fill:none;stroke:#000000;stroke-linecap:square;stroke-linejoin:miter;stroke-width:0.8;\"/>\r\n   </g>\r\n  </g>\r\n </g>\r\n <defs>\r\n  <clipPath id=\"pb05d48ee42\">\r\n   <rect height=\"108.72\" width=\"167.4\" x=\"48.238125\" y=\"7.2\"/>\r\n  </clipPath>\r\n  <clipPath id=\"p9e38bfce09\">\r\n   <rect height=\"108.72\" width=\"167.4\" x=\"215.638125\" y=\"7.2\"/>\r\n  </clipPath>\r\n  <clipPath id=\"p5b6e944a87\">\r\n   <rect height=\"108.72\" width=\"167.4\" x=\"48.238125\" y=\"115.92\"/>\r\n  </clipPath>\r\n  <clipPath id=\"p7ffb79d1ac\">\r\n   <rect height=\"108.72\" width=\"167.4\" x=\"215.638125\" y=\"115.92\"/>\r\n  </clipPath>\r\n </defs>\r\n</svg>\r\n",
      "image/png": "[encoded data removed]"
     },
     "metadata": {
      "needs_background": "light"
     }
    }
   ],
   "source": [
    "%matplotlib inline\n",
    "from pandas.plotting import scatter_matrix\n",
    "_ = scatter_matrix(df_202008_fillmean)"
   ]
  },
  {
   "cell_type": "code",
   "execution_count": 33,
   "metadata": {},
   "outputs": [
    {
     "output_type": "execute_result",
     "data": {
      "text/plain": "                  steps    cols\ndates                          \n2020-08-01  1432.000000  4300.0\n2020-08-02  2331.000000  2100.0\n2020-08-03  4115.818182  3575.0\n2020-08-04  8283.000000  3433.0\n2020-08-05  4115.818182  3575.0\n2020-08-06  4332.000000  4577.0\n2020-08-07  3212.000000  2365.0\n2020-08-08  6543.000000  6434.0\n2020-08-09  2345.000000  2653.0\n2020-08-10  5433.000000  5212.0\n2020-08-11  2674.000000  2643.0\n2020-08-12  3765.000000  2854.0\n2020-08-13  4924.000000  2754.0",
      "text/html": "<div>\n<style scoped>\n    .dataframe tbody tr th:only-of-type {\n        vertical-align: middle;\n    }\n\n    .dataframe tbody tr th {\n        vertical-align: top;\n    }\n\n    .dataframe thead th {\n        text-align: right;\n    }\n</style>\n<table border=\"1\" class=\"dataframe\">\n  <thead>\n    <tr style=\"text-align: right;\">\n      <th></th>\n      <th>steps</th>\n      <th>cols</th>\n    </tr>\n    <tr>\n      <th>dates</th>\n      <th></th>\n      <th></th>\n    </tr>\n  </thead>\n  <tbody>\n    <tr>\n      <th>2020-08-01</th>\n      <td>1432.000000</td>\n      <td>4300.0</td>\n    </tr>\n    <tr>\n      <th>2020-08-02</th>\n      <td>2331.000000</td>\n      <td>2100.0</td>\n    </tr>\n    <tr>\n      <th>2020-08-03</th>\n      <td>4115.818182</td>\n      <td>3575.0</td>\n    </tr>\n    <tr>\n      <th>2020-08-04</th>\n      <td>8283.000000</td>\n      <td>3433.0</td>\n    </tr>\n    <tr>\n      <th>2020-08-05</th>\n      <td>4115.818182</td>\n      <td>3575.0</td>\n    </tr>\n    <tr>\n      <th>2020-08-06</th>\n      <td>4332.000000</td>\n      <td>4577.0</td>\n    </tr>\n    <tr>\n      <th>2020-08-07</th>\n      <td>3212.000000</td>\n      <td>2365.0</td>\n    </tr>\n    <tr>\n      <th>2020-08-08</th>\n      <td>6543.000000</td>\n      <td>6434.0</td>\n    </tr>\n    <tr>\n      <th>2020-08-09</th>\n      <td>2345.000000</td>\n      <td>2653.0</td>\n    </tr>\n    <tr>\n      <th>2020-08-10</th>\n      <td>5433.000000</td>\n      <td>5212.0</td>\n    </tr>\n    <tr>\n      <th>2020-08-11</th>\n      <td>2674.000000</td>\n      <td>2643.0</td>\n    </tr>\n    <tr>\n      <th>2020-08-12</th>\n      <td>3765.000000</td>\n      <td>2854.0</td>\n    </tr>\n    <tr>\n      <th>2020-08-13</th>\n      <td>4924.000000</td>\n      <td>2754.0</td>\n    </tr>\n  </tbody>\n</table>\n</div>"
     },
     "metadata": {},
     "execution_count": 33
    }
   ],
   "source": [
    "df_202008_fillmean.loc[:, ['steps', 'cols']]"
   ]
  },
  {
   "cell_type": "code",
   "execution_count": 34,
   "metadata": {},
   "outputs": [
    {
     "output_type": "execute_result",
     "data": {
      "text/plain": "array([[1432.        , 4300.        ],\n       [2331.        , 2100.        ],\n       [4115.81818182, 3575.        ],\n       [8283.        , 3433.        ],\n       [4115.81818182, 3575.        ],\n       [4332.        , 4577.        ],\n       [3212.        , 2365.        ],\n       [6543.        , 6434.        ],\n       [2345.        , 2653.        ],\n       [5433.        , 5212.        ],\n       [2674.        , 2643.        ],\n       [3765.        , 2854.        ],\n       [4924.        , 2754.        ]])"
     },
     "metadata": {},
     "execution_count": 34
    }
   ],
   "source": [
    "df_202008_fillmean.loc[:, ['steps', 'cols']].values"
   ]
  },
  {
   "cell_type": "code",
   "execution_count": null,
   "metadata": {},
   "outputs": [],
   "source": []
  }
 ]
}