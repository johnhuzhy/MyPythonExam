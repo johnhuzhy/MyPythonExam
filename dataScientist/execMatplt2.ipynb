{
 "metadata": {
  "language_info": {
   "codemirror_mode": {
    "name": "ipython",
    "version": 3
   },
   "file_extension": ".py",
   "mimetype": "text/x-python",
   "name": "python",
   "nbconvert_exporter": "python",
   "pygments_lexer": "ipython3",
   "version": "3.8.3-final"
  },
  "orig_nbformat": 2,
  "kernelspec": {
   "name": "python_defaultSpec_1598878770503",
   "display_name": "Python 3.8.3 64-bit"
  }
 },
 "nbformat": 4,
 "nbformat_minor": 2,
 "cells": [
  {
   "cell_type": "code",
   "execution_count": null,
   "metadata": {},
   "outputs": [],
   "source": [
    "import matplotlib.pyplot as plt\n",
    "import matplotlib.style\n",
    "import numpy as np\n",
    "\n",
    "matplotlib.style.use('ggplot')\n",
    "\n",
    "fig, ax = plt.subplots()\n",
    "np.random.seed(333)\n",
    "x = np.random.rand(50)\n",
    "y = np.random.rand(50)\n",
    "\n",
    "ax.scatter(x, y)\n",
    "plt.show()"
   ]
  },
  {
   "cell_type": "code",
   "execution_count": null,
   "metadata": {},
   "outputs": [],
   "source": [
    "fig, ax = plt.subplots()\n",
    "\n",
    "np.random.seed(333)\n",
    "x = np.random.rand(50)\n",
    "y = np.random.rand(50)\n",
    "\n",
    "ax.scatter(x[0:10], y[0:10], marker='v', label='triangle down')\n",
    "ax.scatter(x[10:20], y[10:20], marker='^', label='triangle up')\n",
    "ax.scatter(x[20:30], y[20:30], marker='s', label='square')\n",
    "ax.scatter(x[30:40], y[30:40], marker='*', label='star')\n",
    "ax.scatter(x[40:50], y[40:50], marker='x', label='x')\n",
    "ax.legend()\n",
    "\n",
    "plt.show()"
   ]
  },
  {
   "cell_type": "code",
   "execution_count": null,
   "metadata": {},
   "outputs": [],
   "source": [
    "np.random.seed(333)\n",
    "\n",
    "mu = 100\n",
    "sigma = 15\n",
    "x = np.random.normal(mu, sigma, 1000)\n",
    "\n",
    "fig, ax = plt.subplots()\n",
    "n, bins, patches = ax.hist(x)\n",
    "\n",
    "plt.show()"
   ]
  },
  {
   "cell_type": "code",
   "execution_count": null,
   "metadata": {
    "tags": []
   },
   "outputs": [],
   "source": [
    "for i,num in enumerate(n):\n",
    "    print(f'{bins[i]:.2f} - {bins[i+1]:.2f} : {num}')"
   ]
  },
  {
   "cell_type": "code",
   "execution_count": null,
   "metadata": {},
   "outputs": [],
   "source": [
    "fig, ax = plt.subplots()\n",
    "\n",
    "ax.hist(x, bins=25)\n",
    "\n",
    "plt.show()"
   ]
  },
  {
   "cell_type": "code",
   "execution_count": null,
   "metadata": {},
   "outputs": [],
   "source": [
    "fig, ax = plt.subplots()\n",
    "\n",
    "ax.hist(x, orientation='horizontal')\n",
    "\n",
    "plt.show()"
   ]
  },
  {
   "cell_type": "code",
   "execution_count": null,
   "metadata": {},
   "outputs": [],
   "source": [
    "np.random.seed(233)\n",
    "\n",
    "mu = 100\n",
    "x0 = np.random.normal(mu, 20, 1000)\n",
    "x1 = np.random.normal(mu, 15, 1000)\n",
    "x2 = np.random.normal(mu, 10, 1000)\n",
    "\n",
    "fig, ax = plt.subplots()\n",
    "labels = ['x0', 'x1', 'x2']\n",
    "ax.hist((x0, x1, x2), label=labels)\n",
    "ax.legend()\n",
    "\n",
    "plt.show()"
   ]
  },
  {
   "cell_type": "code",
   "execution_count": null,
   "metadata": {},
   "outputs": [],
   "source": [
    "fig, ax = plt.subplots()\n",
    "labels = ['x0', 'x1', 'x2']\n",
    "ax.hist((x0, x1, x2), label=labels, stacked=True)\n",
    "ax.legend()\n",
    "plt.show()"
   ]
  },
  {
   "cell_type": "code",
   "execution_count": null,
   "metadata": {},
   "outputs": [],
   "source": [
    "np.random.seed(223)\n",
    "\n",
    "x0 = np.random.normal(0, 10, 500)\n",
    "x1 = np.random.normal(0, 15, 500)\n",
    "x2 = np.random.normal(0, 20, 500)\n",
    "\n",
    "fig, ax = plt.subplots()\n",
    "labels = ['x0', 'x1', 'x2']\n",
    "ax.boxplot((x0, x1, x2), labels=labels)\n",
    "\n",
    "plt.show()"
   ]
  },
  {
   "cell_type": "code",
   "execution_count": null,
   "metadata": {},
   "outputs": [],
   "source": [
    "np.random.seed(223)\n",
    "\n",
    "x0 = np.random.normal(0, 10, 500)\n",
    "x1 = np.random.normal(0, 15, 500)\n",
    "x2 = np.random.normal(0, 20, 500)\n",
    "\n",
    "fig, ax = plt.subplots()\n",
    "labels = ['x0', 'x1', 'x2']\n",
    "ax.boxplot((x0, x1, x2), labels=labels, vert=False)\n",
    "\n",
    "plt.show()"
   ]
  },
  {
   "cell_type": "code",
   "execution_count": null,
   "metadata": {},
   "outputs": [],
   "source": []
  }
 ]
}