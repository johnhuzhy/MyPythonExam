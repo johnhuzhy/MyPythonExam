{
 "metadata": {
  "language_info": {
   "codemirror_mode": {
    "name": "ipython",
    "version": 3
   },
   "file_extension": ".py",
   "mimetype": "text/x-python",
   "name": "python",
   "nbconvert_exporter": "python",
   "pygments_lexer": "ipython3",
   "version": "3.8.3-final"
  },
  "orig_nbformat": 2,
  "kernelspec": {
   "name": "python_defaultSpec_1598957231260",
   "display_name": "Python 3.8.3 64-bit"
  }
 },
 "nbformat": 4,
 "nbformat_minor": 2,
 "cells": [
  {
   "cell_type": "code",
   "execution_count": null,
   "metadata": {},
   "outputs": [],
   "source": [
    "import matplotlib.pyplot as plt\n",
    "import matplotlib.style\n",
    "import numpy as np\n",
    "\n",
    "matplotlib.style.use('ggplot')\n",
    "\n",
    "fig, ax = plt.subplots()\n",
    "np.random.seed(333)\n",
    "x = np.random.rand(50)\n",
    "y = np.random.rand(50)\n",
    "\n",
    "ax.scatter(x, y)\n",
    "plt.show()"
   ]
  },
  {
   "cell_type": "code",
   "execution_count": null,
   "metadata": {},
   "outputs": [],
   "source": [
    "fig, ax = plt.subplots()\n",
    "\n",
    "np.random.seed(333)\n",
    "x = np.random.rand(50)\n",
    "y = np.random.rand(50)\n",
    "\n",
    "ax.scatter(x[0:10], y[0:10], marker='v', label='triangle down')\n",
    "ax.scatter(x[10:20], y[10:20], marker='^', label='triangle up')\n",
    "ax.scatter(x[20:30], y[20:30], marker='s', label='square')\n",
    "ax.scatter(x[30:40], y[30:40], marker='*', label='star')\n",
    "ax.scatter(x[40:50], y[40:50], marker='x', label='x')\n",
    "ax.legend()\n",
    "\n",
    "plt.show()"
   ]
  },
  {
   "cell_type": "code",
   "execution_count": null,
   "metadata": {},
   "outputs": [],
   "source": [
    "np.random.seed(333)\n",
    "\n",
    "mu = 100\n",
    "sigma = 15\n",
    "x = np.random.normal(mu, sigma, 1000)\n",
    "\n",
    "fig, ax = plt.subplots()\n",
    "n, bins, patches = ax.hist(x)\n",
    "\n",
    "plt.show()"
   ]
  },
  {
   "cell_type": "code",
   "execution_count": null,
   "metadata": {
    "tags": []
   },
   "outputs": [],
   "source": [
    "for i,num in enumerate(n):\n",
    "    print(f'{bins[i]:.2f} - {bins[i+1]:.2f} : {num}')"
   ]
  },
  {
   "cell_type": "code",
   "execution_count": null,
   "metadata": {},
   "outputs": [],
   "source": [
    "fig, ax = plt.subplots()\n",
    "\n",
    "ax.hist(x, bins=25)\n",
    "\n",
    "plt.show()"
   ]
  },
  {
   "cell_type": "code",
   "execution_count": null,
   "metadata": {},
   "outputs": [],
   "source": [
    "fig, ax = plt.subplots()\n",
    "\n",
    "ax.hist(x, orientation='horizontal')\n",
    "\n",
    "plt.show()"
   ]
  },
  {
   "cell_type": "code",
   "execution_count": null,
   "metadata": {},
   "outputs": [],
   "source": [
    "np.random.seed(233)\n",
    "\n",
    "mu = 100\n",
    "x0 = np.random.normal(mu, 20, 1000)\n",
    "x1 = np.random.normal(mu, 15, 1000)\n",
    "x2 = np.random.normal(mu, 10, 1000)\n",
    "\n",
    "fig, ax = plt.subplots()\n",
    "labels = ['x0', 'x1', 'x2']\n",
    "ax.hist((x0, x1, x2), label=labels)\n",
    "ax.legend()\n",
    "\n",
    "plt.show()"
   ]
  },
  {
   "cell_type": "code",
   "execution_count": null,
   "metadata": {},
   "outputs": [],
   "source": [
    "fig, ax = plt.subplots()\n",
    "labels = ['x0', 'x1', 'x2']\n",
    "ax.hist((x0, x1, x2), label=labels, stacked=True)\n",
    "ax.legend()\n",
    "plt.show()"
   ]
  },
  {
   "cell_type": "code",
   "execution_count": null,
   "metadata": {},
   "outputs": [],
   "source": [
    "np.random.seed(223)\n",
    "\n",
    "x0 = np.random.normal(0, 10, 500)\n",
    "x1 = np.random.normal(0, 15, 500)\n",
    "x2 = np.random.normal(0, 20, 500)\n",
    "\n",
    "fig, ax = plt.subplots()\n",
    "labels = ['x0', 'x1', 'x2']\n",
    "ax.boxplot((x0, x1, x2), labels=labels)\n",
    "\n",
    "plt.show()"
   ]
  },
  {
   "cell_type": "code",
   "execution_count": null,
   "metadata": {},
   "outputs": [],
   "source": [
    "np.random.seed(223)\n",
    "\n",
    "x0 = np.random.normal(0, 10, 500)\n",
    "x1 = np.random.normal(0, 15, 500)\n",
    "x2 = np.random.normal(0, 20, 500)\n",
    "\n",
    "fig, ax = plt.subplots()\n",
    "labels = ['x0', 'x1', 'x2']\n",
    "ax.boxplot((x0, x1, x2), labels=labels, vert=False)\n",
    "\n",
    "plt.show()"
   ]
  },
  {
   "cell_type": "code",
   "execution_count": null,
   "metadata": {},
   "outputs": [],
   "source": [
    "labels = ['spam', 'ham', 'egg']\n",
    "x = [10, 4, 1]\n",
    "\n",
    "fig, ax = plt.subplots()\n",
    "ax.pie(x, labels=labels)\n",
    "\n",
    "plt.show()"
   ]
  },
  {
   "cell_type": "code",
   "execution_count": null,
   "metadata": {},
   "outputs": [],
   "source": [
    "fig, ax = plt.subplots()\n",
    "ax.pie(x, labels=labels)\n",
    "ax.axis('equal')\n",
    "\n",
    "plt.show()"
   ]
  },
  {
   "cell_type": "code",
   "execution_count": null,
   "metadata": {},
   "outputs": [],
   "source": [
    "fig, ax = plt.subplots()\n",
    "ax.pie(x, labels=labels, startangle=90, counterclock=False)\n",
    "ax.axis('equal')\n",
    "\n",
    "plt.show()"
   ]
  },
  {
   "cell_type": "code",
   "execution_count": null,
   "metadata": {},
   "outputs": [],
   "source": [
    "fig, ax = plt.subplots()\n",
    "ax.pie(x, labels=labels, startangle=90, counterclock=False, shadow=True, autopct='%1.2f%%')\n",
    "ax.axis('equal')\n",
    "\n",
    "plt.show()"
   ]
  },
  {
   "cell_type": "code",
   "execution_count": null,
   "metadata": {},
   "outputs": [],
   "source": [
    "explode = [0, 0.2, 0]\n",
    "\n",
    "fig, ax = plt.subplots()\n",
    "ax.pie(x, labels=labels, startangle=90, counterclock=False, shadow=True, autopct='%1.2f%%', explode=explode)\n",
    "ax.axis('equal')\n",
    "\n",
    "plt.show()"
   ]
  },
  {
   "cell_type": "code",
   "execution_count": null,
   "metadata": {},
   "outputs": [],
   "source": [
    "fig, ax = plt.subplots()\n",
    "\n",
    "x1 = [1, 2, 3]\n",
    "y1 = [5, 2, 3]\n",
    "x2 = [1, 2, 3, 4]\n",
    "y2 = [8, 5, 4, 6]\n",
    "\n",
    "ax.bar(x1, y1, label='y1')\n",
    "ax.plot(x2, y2, label='y2')\n",
    "ax.legend()\n",
    "\n",
    "plt.show()"
   ]
  },
  {
   "cell_type": "code",
   "execution_count": null,
   "metadata": {},
   "outputs": [],
   "source": [
    "np.random.seed(233)\n",
    "\n",
    "x = np.random.randn(1000)\n",
    "\n",
    "fig, ax = plt.subplots()\n",
    "\n",
    "counts, edges, patches = ax.hist(x, bins=25)\n",
    "\n",
    "x_fit = (edges[:-1]+edges[1:])/2\n",
    "y = 1000 * np.diff(edges) * np.exp(-x_fit**2 / 2) / np.sqrt(2 * np.pi)\n",
    "ax.plot(x_fit, y)\n",
    "\n",
    "plt.show()"
   ]
  },
  {
   "cell_type": "code",
   "execution_count": null,
   "metadata": {},
   "outputs": [],
   "source": [
    "fig, ax = plt.subplots()\n",
    "\n",
    "ax.plot([1, 3], [3, 1], label='aqua', color='aqua')\n",
    "ax.plot([1, 3], [1, 3], label='#0000ff', color='#0000ff')\n",
    "ax.plot([1, 3], [2, 2], label='(0.1,0.2,0.5,0.3)', color=(0.1,0.2,0.5,0.3))\n",
    "\n",
    "ax.legend()\n",
    "\n",
    "plt.show()"
   ]
  },
  {
   "cell_type": "code",
   "execution_count": null,
   "metadata": {},
   "outputs": [],
   "source": [
    "fig, ax = plt.subplots()\n",
    "\n",
    "ax.bar([1], [3], color='aqua')\n",
    "ax.bar([2], [4], color='aqua', edgecolor='black')\n",
    "\n",
    "plt.show()"
   ]
  },
  {
   "cell_type": "code",
   "execution_count": null,
   "metadata": {},
   "outputs": [],
   "source": [
    "# 203 線の幅\n",
    "fig, ax = plt.subplots()\n",
    "\n",
    "ax.plot([1,3], [3,1], linewidth=5.5, label='5.5')\n",
    "ax.plot([1,3], [1,3], linewidth=10, label='10')\n",
    "\n",
    "ax.legend()\n",
    "plt.show()"
   ]
  },
  {
   "cell_type": "code",
   "execution_count": null,
   "metadata": {},
   "outputs": [],
   "source": [
    "# 204 線の種類\n",
    "fig, ax = plt.subplots()\n",
    "\n",
    "ax.plot([1,3], [3,1], linestyle='--', label='dashed')\n",
    "ax.plot([1,3], [1,3], linestyle='-.', label='dashdot')\n",
    "ax.plot([1,3], [2,2], linestyle=':', label='dotted')\n",
    "\n",
    "ax.legend()\n",
    "plt.show()"
   ]
  },
  {
   "cell_type": "code",
   "execution_count": null,
   "metadata": {
    "tags": []
   },
   "outputs": [],
   "source": [
    "# 205 フォント\n",
    "fig, ax = plt.subplots()\n",
    "\n",
    "ax.set_xlabel('xlabel', family='fantasy', size=20, weight='bold')\n",
    "ax.set_ylabel('ylabel', family='cursive', size=40, weight='light')\n",
    "ax.set_title('graph title', family='monospace', size=25, weight='heavy')\n",
    "\n",
    "plt.show()"
   ]
  },
  {
   "cell_type": "code",
   "execution_count": null,
   "metadata": {},
   "outputs": [],
   "source": [
    "# 206 フォント\n",
    "fontdict={\n",
    "    'family':'fantasy',\n",
    "    'size':20,\n",
    "    'weight':'normal',\n",
    "}\n",
    "\n",
    "fig, ax = plt.subplots()\n",
    "\n",
    "ax.set_xlabel('xlabel', fontdict=fontdict)\n",
    "ax.set_ylabel('ylabel', fontdict=fontdict)\n",
    "ax.set_title('graph title', fontdict=fontdict, size=40)\n",
    "\n",
    "plt.show()"
   ]
  },
  {
   "cell_type": "code",
   "execution_count": null,
   "metadata": {},
   "outputs": [],
   "source": [
    "# 207 テキスト\n",
    "fig, ax = plt.subplots()\n",
    "\n",
    "ax.text(0.2, 0.4, 'TEXT', size=20)\n",
    "plt.show()"
   ]
  },
  {
   "cell_type": "code",
   "execution_count": null,
   "metadata": {},
   "outputs": [],
   "source": []
  }
 ]
}