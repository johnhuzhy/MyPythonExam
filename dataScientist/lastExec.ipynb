{
 "metadata": {
  "language_info": {
   "codemirror_mode": {
    "name": "ipython",
    "version": 3
   },
   "file_extension": ".py",
   "mimetype": "text/x-python",
   "name": "python",
   "nbconvert_exporter": "python",
   "pygments_lexer": "ipython3",
   "version": "3.8.3-final"
  },
  "orig_nbformat": 2,
  "kernelspec": {
   "name": "python_defaultSpec_1600223486835",
   "display_name": "Python 3.8.3 64-bit"
  }
 },
 "nbformat": 4,
 "nbformat_minor": 2,
 "cells": [
  {
   "cell_type": "code",
   "execution_count": 2,
   "metadata": {
    "tags": []
   },
   "outputs": [
    {
     "output_type": "stream",
     "name": "stderr",
     "text": "2020-09-16 11:32:01,340:INFO:INFO\n2020-09-16 11:32:01,340:WARNING:警告\n2020-09-16 11:32:01,349:ERROR:エラー\n2020-09-16 11:32:01,349:CRITICAL:重大なエラー\n"
    }
   ],
   "source": [
    "import logging\n",
    "\n",
    "logging.basicConfig(\n",
    "    format='%(levelname)s'\n",
    ")\n",
    "\n",
    "logging.debug('デバック')\n",
    "logging.info('INFO')\n",
    "logging.warning('警告')\n",
    "logging.error('エラー')\n",
    "logging.critical('重大なエラー')"
   ]
  },
  {
   "cell_type": "code",
   "execution_count": 1,
   "metadata": {
    "tags": []
   },
   "outputs": [
    {
     "output_type": "stream",
     "name": "stderr",
     "text": "2020-09-16 11:31:47,106:INFO:INFO\n2020-09-16 11:31:47,107:WARNING:警告\n2020-09-16 11:31:47,109:ERROR:エラー\n2020-09-16 11:31:47,110:CRITICAL:重大なエラー\n"
    }
   ],
   "source": [
    "import logging as lg\n",
    "\n",
    "lg.basicConfig(\n",
    "    level=lg.INFO,\n",
    "    format='%(asctime)s:%(levelname)s:%(message)s'\n",
    ")\n",
    "\n",
    "lg.debug('デバック')\n",
    "lg.info('INFO')\n",
    "lg.warning('警告')\n",
    "lg.error('エラー')\n",
    "lg.critical('重大なエラー')"
   ]
  },
  {
   "cell_type": "code",
   "execution_count": 4,
   "metadata": {
    "tags": []
   },
   "outputs": [
    {
     "output_type": "stream",
     "name": "stdout",
     "text": "1.31 ms ± 118 µs per loop (mean ± std. dev. of 10 runs, 1000 loops each)\n"
    }
   ],
   "source": [
    "%timeit -n 1000 -r 10 [x*x for x in range(10000)]"
   ]
  },
  {
   "cell_type": "code",
   "execution_count": 5,
   "metadata": {
    "tags": []
   },
   "outputs": [
    {
     "output_type": "stream",
     "name": "stdout",
     "text": "Package            VersionWARNING: You are using pip version 20.2.2; however, version 20.2.3 is available.\nYou should consider upgrading via the 'c:\\python38\\python.exe -m pip install --upgrade pip' command.\n\n------------------ ---------\nappdirs            1.4.4\nasgiref            3.2.10\nastroid            2.4.2\nattrs              19.3.0\nautopep8           1.5.2\nbackcall           0.1.0\nbeautifulsoup4     4.9.1\nbleach             3.1.5\nbs4                0.0.1\ncertifi            2020.6.20\nchardet            3.0.4\nclick              7.1.2\ncolorama           0.4.3\ncycler             0.10.0\ndecorator          4.4.2\ndefusedxml         0.6.0\ndistlib            0.3.1\nDjango             3.0.8\nentrypoints        0.3\net-xmlfile         1.0.1\nfilelock           3.0.12\nFlask              1.1.2\nFlask-SQLAlchemy   2.4.3\ngraphviz           0.14.1\nidna               2.9\nipykernel          5.3.0\nipython            7.14.0\nipython-genutils   0.2.0\nipywidgets         7.5.1\nisort              4.3.21\nitsdangerous       1.1.0\njdcal              1.4.1\njedi               0.17.0\nJinja2             2.11.2\njoblib             0.16.0\njsonschema         3.2.0\njupyter            1.0.0\njupyter-client     6.1.3\njupyter-console    6.1.0\njupyter-core       4.6.3\nkiwisolver         1.2.0\nlazy-object-proxy  1.4.3\nlxml               4.5.1\nMarkupSafe         1.1.1\nmatplotlib         3.3.1\nmccabe             0.6.1\nmistune            0.8.4\nmysqlclient        2.0.1\nnbconvert          5.6.1\nnbformat           5.0.6\nnotebook           6.0.3\nnumpy              1.19.1\nopenpyxl           3.0.4\npackaging          20.4\npandas             1.0.5\npandocfilters      1.4.2\nparso              0.7.0\npickleshare        0.7.5\nPillow             7.2.0\npip                20.2.2\npipenv             2020.6.2\nprometheus-client  0.7.1\nprompt-toolkit     3.0.5\npycodestyle        2.6.0\npydotplus          2.0.2\npygame             1.9.6\nPygments           2.6.1\nPyMySQL            0.9.3\npyparsing          2.4.7\npyrsistent         0.16.0\npython-dateutil    2.8.1\npytz               2020.1\npywin32            227\npywinpty           0.5.7\npyzmq              19.0.1\nqtconsole          4.7.4\nQtPy               1.9.0\nrequests           2.23.0\nscikit-learn       0.23.2\nscipy              1.5.2\nSend2Trash         1.5.0\nsetuptools         41.2.0\nsix                1.15.0\nsoupsieve          2.0.1\nSQLAlchemy         1.3.18\nsqlparse           0.3.1\nterminado          0.8.3\ntestpath           0.4.4\nthreadpoolctl      2.1.0\ntoml               0.10.1\ntornado            6.0.4\ntraitlets          4.3.3\nurllib3            1.25.9\nvirtualenv         20.0.25\nvirtualenv-clone   0.5.4\nwad                0.4.3\nwcwidth            0.1.9\nwebencodings       0.5.1\nWerkzeug           1.0.1\nwidgetsnbextension 3.5.1\nwrapt              1.12.1\nxlrd               1.2.0\n"
    }
   ],
   "source": [
    "!pip list"
   ]
  },
  {
   "cell_type": "code",
   "execution_count": null,
   "metadata": {},
   "outputs": [],
   "source": []
  }
 ]
}