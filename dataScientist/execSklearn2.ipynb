{
 "metadata": {
  "language_info": {
   "codemirror_mode": {
    "name": "ipython",
    "version": 3
   },
   "file_extension": ".py",
   "mimetype": "text/x-python",
   "name": "python",
   "nbconvert_exporter": "python",
   "pygments_lexer": "ipython3",
   "version": "3.8.3-final"
  },
  "orig_nbformat": 2,
  "kernelspec": {
   "name": "python_defaultSpec_1599380173933",
   "display_name": "Python 3.8.3 64-bit"
  }
 },
 "nbformat": 4,
 "nbformat_minor": 2,
 "cells": [
  {
   "cell_type": "code",
   "execution_count": null,
   "metadata": {
    "tags": []
   },
   "outputs": [],
   "source": [
    "import numpy as np\n",
    "import pandas as pd\n",
    "from sklearn.datasets import load_iris \n",
    "\n",
    "iris = load_iris()\n",
    "X, y = iris.data, iris.target\n",
    "\n",
    "print('X:\\n', X[:5, :])\n",
    "print('y:\\n', y[:5])"
   ]
  },
  {
   "cell_type": "code",
   "execution_count": null,
   "metadata": {
    "tags": []
   },
   "outputs": [],
   "source": [
    "from sklearn.model_selection import train_test_split\n",
    "\n",
    "X_train, X_test, y_train, y_test = train_test_split(X, y, test_size=0.3, random_state=123)\n",
    "print(X_train.shape)\n",
    "print(X_test.shape)\n",
    "print(y_train.shape)\n",
    "print(y_test.shape)"
   ]
  },
  {
   "cell_type": "code",
   "execution_count": null,
   "metadata": {},
   "outputs": [],
   "source": [
    "import matplotlib.pyplot as plt\n",
    "\n",
    "np.random.seed(223)\n",
    "\n",
    "X0 = np.random.uniform(size=(100, 2))\n",
    "y0 = np.repeat(0, 100)\n",
    "X1 = np.random.uniform(-1.0, 0.0, size=(100, 2))\n",
    "y1 = np.repeat(1, 100)\n",
    "\n",
    "fig, ax = plt.subplots()\n",
    "ax.scatter(X0[:, 0], X0[:, 1], marker='o', label='class 0')\n",
    "ax.scatter(X1[:, 0], X1[:, 1], marker='x', label='class 1')\n",
    "\n",
    "ax.set_xlabel('x')\n",
    "ax.set_ylabel('y')\n",
    "ax.legend()\n",
    "\n",
    "plt.show()"
   ]
  },
  {
   "cell_type": "code",
   "execution_count": null,
   "metadata": {},
   "outputs": [],
   "source": [
    "from sklearn.svm import SVC\n",
    "\n",
    "def plot_boundary_margin_sv(X0, y0, X1, y1, kernel, C, xmin=-1, xmax=1, ymin=-1, ymax=1):\n",
    "    # サポートベクタマシンのインスタンス化\n",
    "    svc = SVC(kernel=kernel, C=C)\n",
    "    # 学習\n",
    "    svc.fit(np.vstack((X0, X1)), np.hstack((y0, y1)))\n",
    "\n",
    "    fig, ax = plt.subplots()\n",
    "    ax.scatter(X0[:, 0], X0[:, 1], marker='o', label='class 0')\n",
    "    ax.scatter(X1[:, 0], X1[:, 1], marker='x', label='class 1')\n",
    "\n",
    "    xx, yy = np.meshgrid(np.linspace(xmin, xmax, 100), np.linspace(ymin, ymax, 100))\n",
    "    xy = np.vstack([xx.ravel(), yy.ravel()]).T\n",
    "    p = svc.decision_function(xy).reshape((100,100))\n",
    "    ax.contour(xx, yy, p, colors='k', levels=[-1, 0, 1],\n",
    "               alpha=0.5, linestyles=['--', '-', '--'])\n",
    "    ax.scatter(svc.support_vectors_[:, 0], svc.support_vectors_[:, 1],\n",
    "               s=250, facecolors='none', edgecolors='black')\n",
    "\n",
    "    ax.set_xlabel('x')\n",
    "    ax.set_ylabel('y')\n",
    "    ax.legend()\n",
    "\n",
    "    plt.show()\n",
    "\n",
    "plot_boundary_margin_sv(X0, y0, X1, y1, kernel='linear', C=1e6)"
   ]
  },
  {
   "cell_type": "code",
   "execution_count": null,
   "metadata": {},
   "outputs": [],
   "source": [
    "plot_boundary_margin_sv(X0, y0, X1, y1, kernel='linear', C=0.1)"
   ]
  },
  {
   "cell_type": "code",
   "execution_count": null,
   "metadata": {},
   "outputs": [],
   "source": [
    "np.random.seed(123)\n",
    "\n",
    "X = np.random.random(size=(100, 2))\n",
    "y = (X[:, 1] > 2*(X[:,0]-0.5)**2 + 0.5).astype(int)\n",
    "\n",
    "fig, ax = plt.subplots()\n",
    "ax.scatter(X[y==0, 0], X[y==0, 1], marker='x', label='class 0')\n",
    "ax.scatter(X[y==1, 0], X[y==1, 1], marker='o', label='class 1')\n",
    "\n",
    "ax.legend()\n",
    "plt.show()"
   ]
  },
  {
   "cell_type": "code",
   "execution_count": null,
   "metadata": {},
   "outputs": [],
   "source": [
    "X0, X1 = X[y==0, :], X[y==1, :]\n",
    "y0, y1 = y[y==0], y[y==1]\n",
    "\n",
    "plot_boundary_margin_sv(X0, y0, X1, y1, kernel='rbf', C=1e3, xmin=0, ymin=0)"
   ]
  },
  {
   "cell_type": "code",
   "execution_count": null,
   "metadata": {},
   "outputs": [],
   "source": [
    "from sklearn.tree import DecisionTreeClassifier\n",
    "\n",
    "tree = DecisionTreeClassifier(max_depth=3)\n",
    "tree.fit(X_train, y_train)"
   ]
  },
  {
   "cell_type": "code",
   "execution_count": null,
   "metadata": {},
   "outputs": [],
   "source": [
    "from pydotplus import graph_from_dot_data\n",
    "from sklearn.tree import export_graphviz\n",
    "# from IPython.display import Image\n",
    "\n",
    "dot_data = export_graphviz(tree, filled=True, rounded=True,\n",
    "                           class_names=['Setosa', 'Versicolor', 'Virginica'],\n",
    "                           feature_names=['Sepal Length', 'Sepal Width', 'Petal Length', 'Petal Width'],\n",
    "                           out_file=None)\n",
    "graph = graph_from_dot_data(dot_data)\n",
    "# graph.progs = {'dot': u'C:\\\\Program Files\\\\Graphviz 2.44.1\\\\bin\\\\dot.exe'}\n",
    "# Image(graph.create_png())\n",
    "graph.write_png('tree.png')\n"
   ]
  },
  {
   "cell_type": "code",
   "execution_count": null,
   "metadata": {},
   "outputs": [],
   "source": [
    "y_pred = tree.predict(X_test)\n",
    "y_pred"
   ]
  },
  {
   "cell_type": "code",
   "execution_count": null,
   "metadata": {},
   "outputs": [],
   "source": [
    "from sklearn.ensemble import RandomForestClassifier\n",
    "\n",
    "forest = RandomForestClassifier(n_estimators=100, random_state=123)\n",
    "\n",
    "forest.fit(X_train, y_train)\n",
    "y_pred= forest.predict(X_test)\n",
    "y_pred"
   ]
  },
  {
   "cell_type": "code",
   "execution_count": null,
   "metadata": {},
   "outputs": [],
   "source": []
  }
 ]
}