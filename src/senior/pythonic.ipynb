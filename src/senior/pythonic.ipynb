{
 "cells": [
  {
   "cell_type": "code",
   "execution_count": 3,
   "metadata": {
    "tags": []
   },
   "outputs": [
    {
     "output_type": "stream",
     "name": "stdout",
     "text": "Sunday\nMonday\nTuesday\nWednesday\nThursday\nFriday\nSaturday\nUnkown\n"
    }
   ],
   "source": [
    "# Switch の置換え\n",
    "Switcher = {\n",
    "    0:'Sunday',\n",
    "    1:'Monday',\n",
    "    2:'Tuesday',\n",
    "    3:'Wednesday',\n",
    "    4:'Thursday',\n",
    "    5:'Friday',\n",
    "    6:'Saturday'\n",
    "}\n",
    "for day in range(8):\n",
    "    day_name = Switcher.get(day, 'Unkown')\n",
    "    print(day_name)"
   ]
  },
  {
   "cell_type": "code",
   "execution_count": 4,
   "metadata": {
    "tags": []
   },
   "outputs": [
    {
     "output_type": "stream",
     "name": "stdout",
     "text": "Sunday\nMonday\nTuesday\nUnkown\nUnkown\nUnkown\nUnkown\nUnkown\n"
    }
   ],
   "source": [
    "# Switch の置換え\n",
    "def get_sunday():\n",
    "    return 'Sunday'\n",
    "def get_monday():\n",
    "    return 'Monday'\n",
    "def get_tuesday():\n",
    "    return 'Tuesday'\n",
    "def get_default():\n",
    "    return 'Unkown'\n",
    "\n",
    "Switcher = {\n",
    "    0:get_sunday,\n",
    "    1:get_monday,\n",
    "    2:get_tuesday,\n",
    "}\n",
    "for day in range(8):\n",
    "    day_name = Switcher.get(day, get_default)()\n",
    "    print(day_name)"
   ]
  }
 ],
 "metadata": {
  "language_info": {
   "codemirror_mode": {
    "name": "ipython",
    "version": 3
   },
   "file_extension": ".py",
   "mimetype": "text/x-python",
   "name": "python",
   "nbconvert_exporter": "python",
   "pygments_lexer": "ipython3",
   "version": "3.8.3-final"
  },
  "orig_nbformat": 2,
  "kernelspec": {
   "name": "python38364bit963067c1be2945f39f5fdda088dafdb2",
   "display_name": "Python 3.8.3 64-bit"
  }
 },
 "nbformat": 4,
 "nbformat_minor": 2
}