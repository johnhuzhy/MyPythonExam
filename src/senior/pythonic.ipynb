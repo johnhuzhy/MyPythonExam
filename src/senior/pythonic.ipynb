{
 "cells": [
  {
   "cell_type": "code",
   "execution_count": null,
   "metadata": {
    "tags": []
   },
   "outputs": [],
   "source": [
    "# Switch の置換え\n",
    "Switcher = {\n",
    "    0:'Sunday',\n",
    "    1:'Monday',\n",
    "    2:'Tuesday',\n",
    "    3:'Wednesday',\n",
    "    4:'Thursday',\n",
    "    5:'Friday',\n",
    "    6:'Saturday'\n",
    "}\n",
    "for day in range(8):\n",
    "    day_name = Switcher.get(day, 'Unkown')\n",
    "    print(day_name)"
   ]
  },
  {
   "cell_type": "code",
   "execution_count": null,
   "metadata": {
    "tags": []
   },
   "outputs": [],
   "source": [
    "# Switch の置換え\n",
    "def get_sunday():\n",
    "    return 'Sunday'\n",
    "def get_monday():\n",
    "    return 'Monday'\n",
    "def get_tuesday():\n",
    "    return 'Tuesday'\n",
    "def get_default():\n",
    "    return 'Unkown'\n",
    "\n",
    "Switcher = {\n",
    "    0:get_sunday,\n",
    "    1:get_monday,\n",
    "    2:get_tuesday,\n",
    "}\n",
    "for day in range(8):\n",
    "    day_name = Switcher.get(day, get_default)()\n",
    "    print(day_name)"
   ]
  },
  {
   "cell_type": "code",
   "execution_count": null,
   "metadata": {
    "tags": []
   },
   "outputs": [],
   "source": [
    "l1 = [x**2 for x in range(10)]\n",
    "print(l1)\n",
    "s2 = {x for x in l1 if x >= 25 }\n",
    "print(s2)"
   ]
  },
  {
   "cell_type": "code",
   "execution_count": null,
   "metadata": {
    "tags": []
   },
   "outputs": [],
   "source": [
    "course = {'python':19,'java':26,'c':24}\n",
    "n1 = [key for key,value in course.items()]\n",
    "print(n1)\n",
    "d2 = {value:key for key,value in course.items()}\n",
    "print(d2)"
   ]
  },
  {
   "cell_type": "code",
   "execution_count": null,
   "metadata": {
    "tags": []
   },
   "outputs": [],
   "source": [
    "def fun1():\n",
    "    return None\n",
    "\n",
    "a = fun1()\n",
    "if not a:\n",
    "    print('T')\n",
    "else:\n",
    "    print('F')\n",
    "if a is None:\n",
    "    print('T')\n",
    "else:\n",
    "    print('F')"
   ]
  },
  {
   "cell_type": "code",
   "execution_count": null,
   "metadata": {
    "tags": []
   },
   "outputs": [],
   "source": [
    "a = ''\n",
    "if not a:\n",
    "    print('T')\n",
    "else:\n",
    "    print('F')\n",
    "if a is None:\n",
    "    print('T')\n",
    "else:\n",
    "    print('F')"
   ]
  },
  {
   "cell_type": "code",
   "execution_count": null,
   "metadata": {
    "tags": []
   },
   "outputs": [],
   "source": [
    "class Test():\n",
    "    # pass\n",
    "    def __bool__(self):\n",
    "        return True\n",
    "    def __len__(self):\n",
    "        return 8\n",
    "\n",
    "print(bool(Test()))\n",
    "print(len(Test()))"
   ]
  },
  {
   "cell_type": "code",
   "execution_count": null,
   "metadata": {},
   "outputs": [],
   "source": [
    "wo = 'WalursOpretor'\n",
    "if (lt := len(wo)) > 10:\n",
    "    print('Length is more than Ten. ->',lt)\n"
   ]
  },
  {
   "cell_type": "code",
   "execution_count": null,
   "metadata": {
    "tags": []
   },
   "outputs": [],
   "source": [
    "from dataclasses import dataclass\n",
    "\n",
    "@dataclass\n",
    "class Person():\n",
    "    name:str\n",
    "    age:int\n",
    "    address:str\n",
    "\n",
    "    def print_address(self):\n",
    "        print(f'{self.name}({self.age}) lives in {self.address}.')\n",
    "\n",
    "stella = Person('Shanshan', 27, 'Tokyo Koto')\n",
    "print(stella.__repr__())\n",
    "stella.print_address()"
   ]
  },
  {
   "cell_type": "code",
   "execution_count": null,
   "metadata": {},
   "outputs": [],
   "source": []
  }
 ],
 "metadata": {
  "language_info": {
   "codemirror_mode": {
    "name": "ipython",
    "version": 3
   },
   "file_extension": ".py",
   "mimetype": "text/x-python",
   "name": "python",
   "nbconvert_exporter": "python",
   "pygments_lexer": "ipython3",
   "version": "3.8.3-final"
  },
  "orig_nbformat": 2,
  "kernelspec": {
   "name": "python38364bit963067c1be2945f39f5fdda088dafdb2",
   "display_name": "Python 3.8.3 64-bit"
  }
 },
 "nbformat": 4,
 "nbformat_minor": 2
}