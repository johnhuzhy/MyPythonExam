{
 "cells": [
  {
   "cell_type": "code",
   "execution_count": null,
   "metadata": {},
   "outputs": [],
   "source": [
    "class Sample:\n",
    "  c_list = []\n",
    "  def add_c_list(self,data):\n",
    "    self.c_list.append(data)\n",
    "\n",
    "print(\"出力結果:\", end=\" \")\n",
    "sample1 = Sample()\n",
    "sample1.add_c_list(\"データ1\")\n",
    "\n",
    "sample2 = Sample()\n",
    "sample2.add_c_list(\"データ2\")\n",
    "\n",
    "for item_data in sample1.c_list:\n",
    "  print(item_data, end=\" \")"
   ]
  },
  {
   "cell_type": "code",
   "execution_count": null,
   "metadata": {},
   "outputs": [],
   "source": [
    "list = [5, 3, 1, 2, 3, 4, 5, 2]\n",
    "list.remove(2)\n",
    "print(list)"
   ]
  },
  {
   "cell_type": "code",
   "execution_count": null,
   "metadata": {},
   "outputs": [],
   "source": [
    "list = [5, 3, 1, 2, 3, 4, 5, 2]\n",
    "list.clear(2)\n",
    "print(list)"
   ]
  },
  {
   "cell_type": "code",
   "execution_count": null,
   "metadata": {},
   "outputs": [],
   "source": [
    "def dive_into_code(teacher, L=[]):\n",
    "    L.append(teacher)\n",
    "    return L\n",
    "\n",
    "print(dive_into_code('Noro'))\n",
    "print(dive_into_code('Nakao'))\n",
    "print(dive_into_code('Miyashita'))"
   ]
  },
  {
   "cell_type": "code",
   "execution_count": null,
   "metadata": {},
   "outputs": [],
   "source": [
    "def dive_into_code(teacher, L=[]):\n",
    "    L.extend(teacher)\n",
    "    return L\n",
    "\n",
    "print(dive_into_code('Noro'))\n",
    "print(dive_into_code('Nakao'))\n",
    "print(dive_into_code('Miyashita'))"
   ]
  },
  {
   "cell_type": "code",
   "execution_count": null,
   "metadata": {},
   "outputs": [],
   "source": [
    "def dive_into_code(teacher, L=[]):\n",
    "    L.insert(0, teacher)\n",
    "    return L\n",
    "\n",
    "print(dive_into_code('Noro'))\n",
    "print(dive_into_code('Nakao'))\n",
    "print(dive_into_code('Miyashita'))"
   ]
  },
  {
   "cell_type": "code",
   "execution_count": null,
   "metadata": {},
   "outputs": [],
   "source": [
    "dive_into_code = ['Noro', 'Nakao', 'Miyaoka', 'Miyashita', 'Shibata', 'Kimura']\n",
    "ex_mentor = dive_into_code.pop(3)\n",
    "print(ex_mentor)\n",
    "\n",
    "ex_mentor = dive_into_code.pop()\n",
    "print(ex_mentor)\n",
    "\n",
    "ex_mentor = dive_into_code.pop(1)\n",
    "print(ex_mentor)"
   ]
  },
  {
   "cell_type": "code",
   "execution_count": null,
   "metadata": {},
   "outputs": [],
   "source": [
    "member = {1: 'Noro', 2: 'Nakao', 3: 'Miyaoka'}\n",
    "member[4] = 'Kimura'\n",
    "del member[3]\n",
    "print(member.keys())"
   ]
  },
  {
   "cell_type": "code",
   "execution_count": null,
   "metadata": {},
   "outputs": [],
   "source": [
    "for i in range(20):\n",
    "    if i%3 == 0:\n",
    "        print(\"{}は3で割り切れます\".format(i), end=' ')\n",
    "    elif i>8 and i%2 == 0:\n",
    "        break\n",
    "    else:\n",
    "        continue "
   ]
  },
  {
   "cell_type": "code",
   "execution_count": 3,
   "metadata": {},
   "outputs": [
    {
     "output_type": "execute_result",
     "data": {
      "text/plain": "['3.0', '3.1', '3.14', '3.142', '3.1416']"
     },
     "metadata": {},
     "execution_count": 3
    }
   ],
   "source": [
    "from math import pi\n",
    "[str(round(pi, i)) for i in range(0, 5)]"
   ]
  },
  {
   "cell_type": "code",
   "execution_count": 2,
   "metadata": {},
   "outputs": [
    {
     "output_type": "stream",
     "name": "stdout",
     "text": "{\"name\": \"yamada\", \"data\": [2, 3, 4], \"age\": 18, \"address\": [101, 99]}\n"
    }
   ],
   "source": [
    "import json\n",
    "x = {'name':'yamada','data':[2,3,4],'age':18,'address':(101,99)}\n",
    "print(json.dumps(x))"
   ]
  },
  {
   "cell_type": "code",
   "execution_count": null,
   "metadata": {},
   "outputs": [],
   "source": []
  }
 ],
 "metadata": {
  "language_info": {
   "codemirror_mode": {
    "name": "ipython",
    "version": 3
   },
   "file_extension": ".py",
   "mimetype": "text/x-python",
   "name": "python",
   "nbconvert_exporter": "python",
   "pygments_lexer": "ipython3",
   "version": "3.8.3-final"
  },
  "orig_nbformat": 2,
  "kernelspec": {
   "name": "python38364bit963067c1be2945f39f5fdda088dafdb2",
   "display_name": "Python 3.8.3 64-bit"
  }
 },
 "nbformat": 4,
 "nbformat_minor": 2
}